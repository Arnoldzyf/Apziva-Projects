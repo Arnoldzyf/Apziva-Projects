{
  "nbformat": 4,
  "nbformat_minor": 0,
  "metadata": {
    "colab": {
      "provenance": [],
      "toc_visible": true,
      "include_colab_link": true
    },
    "kernelspec": {
      "name": "python3",
      "display_name": "Python 3"
    },
    "language_info": {
      "name": "python"
    }
  },
  "cells": [
    {
      "cell_type": "markdown",
      "metadata": {
        "id": "view-in-github",
        "colab_type": "text"
      },
      "source": [
        "<a href=\"https://colab.research.google.com/github/Arnoldzyf/Apziva-Projects/blob/main/1_happy_customers.ipynb\" target=\"_parent\"><img src=\"https://colab.research.google.com/assets/colab-badge.svg\" alt=\"Open In Colab\"/></a>"
      ]
    },
    {
      "cell_type": "code",
      "execution_count": 1,
      "metadata": {
        "colab": {
          "base_uri": "https://localhost:8080/"
        },
        "id": "v898r-D7wf_v",
        "outputId": "8ae7c67d-ded6-4cac-c73f-85835a550b59"
      },
      "outputs": [
        {
          "output_type": "stream",
          "name": "stdout",
          "text": [
            "Mounted at /content/drive\n"
          ]
        }
      ],
      "source": [
        "from google.colab import drive\n",
        "drive.mount('/content/drive')"
      ]
    },
    {
      "cell_type": "code",
      "source": [
        "# !pip install pandas\n",
        "import pandas as pd"
      ],
      "metadata": {
        "id": "-xGw566YyOcm"
      },
      "execution_count": 2,
      "outputs": []
    },
    {
      "cell_type": "markdown",
      "source": [
        "# Task"
      ],
      "metadata": {
        "id": "bx_tKjN62u87"
      }
    },
    {
      "cell_type": "markdown",
      "source": [
        "**Task Description**:\n",
        "1. Predict if a customer is happy or not based on the answers they give to questions asked\n",
        "  - Reach 73% accuracy score or above\n",
        "\n",
        "2. what is the minimal set of attributes/features that would preserve the most information about the problem while increasing predictability of the data we have\n"
      ],
      "metadata": {
        "id": "ZzPup1Q_2w43"
      }
    },
    {
      "cell_type": "markdown",
      "source": [
        "**Task Analysis**:\n",
        "1. Classification Problem ([sklearn](https://scikit-learn.org/stable/))\n",
        "  - classification model\n",
        "  - regression model + threshold\n",
        "  - neural net\n",
        "2. Feature Importance\n",
        "  - test best model on validation set   \n",
        "  - `feature_importances_` in sklearn `RandomForestClassifier`\n",
        "  - ?? Other ways\n",
        "    - delete iteratively (permutation)\n",
        "    - dimension reduction (PCA, ...)\n",
        "    - feature selection (coefficient, ...)\n",
        "3. only need a very **small** model"
      ],
      "metadata": {
        "id": "ad0rB-0WBoB4"
      }
    },
    {
      "cell_type": "markdown",
      "source": [
        "# Data Preprocessing"
      ],
      "metadata": {
        "id": "ACEjbTlfzYpS"
      }
    },
    {
      "cell_type": "markdown",
      "source": [
        "Y = target attribute (Y) with values indicating 0 (unhappy) and 1 (happy) customers  \n",
        "X1 = my order was delivered on time  \n",
        "X2 = contents of my order was as I expected  \n",
        "X3 = I ordered everything I wanted to order  \n",
        "X4 = I paid a good price for my order  \n",
        "X5 = I am satisfied with my courier  \n",
        "X6 = the app makes ordering easy for me  \n",
        "\n",
        "Attributes X1 to X6 indicate the responses for each question and have values from 1 to 5 where the smaller number indicates less and the higher number indicates more towards the answer."
      ],
      "metadata": {
        "id": "yccngBmDzhrw"
      }
    },
    {
      "cell_type": "markdown",
      "source": [
        "## Load the Data"
      ],
      "metadata": {
        "id": "juQaV_Lz8q3O"
      }
    },
    {
      "cell_type": "code",
      "source": [
        "path = \"/content/drive/MyDrive/Apziva/Project 1 - Happy Customers/Resources/ACME-HappinessSurvey2020.csv\"\n",
        "survey_df = pd.read_csv(f\"{path}\")\n",
        "survey_df"
      ],
      "metadata": {
        "colab": {
          "base_uri": "https://localhost:8080/",
          "height": 423
        },
        "id": "PnBQY1-xymYy",
        "outputId": "97bef937-9d2e-451d-89c2-5f8dad4eb0c4"
      },
      "execution_count": 3,
      "outputs": [
        {
          "output_type": "execute_result",
          "data": {
            "text/plain": [
              "     Y  X1  X2  X3  X4  X5  X6\n",
              "0    0   3   3   3   4   2   4\n",
              "1    0   3   2   3   5   4   3\n",
              "2    1   5   3   3   3   3   5\n",
              "3    0   5   4   3   3   3   5\n",
              "4    0   5   4   3   3   3   5\n",
              "..  ..  ..  ..  ..  ..  ..  ..\n",
              "121  1   5   2   3   4   4   3\n",
              "122  1   5   2   3   4   2   5\n",
              "123  1   5   3   3   4   4   5\n",
              "124  0   4   3   3   4   4   5\n",
              "125  0   5   3   2   5   5   5\n",
              "\n",
              "[126 rows x 7 columns]"
            ],
            "text/html": [
              "\n",
              "  <div id=\"df-cdb296db-897d-4600-9a42-ed0ca1806930\" class=\"colab-df-container\">\n",
              "    <div>\n",
              "<style scoped>\n",
              "    .dataframe tbody tr th:only-of-type {\n",
              "        vertical-align: middle;\n",
              "    }\n",
              "\n",
              "    .dataframe tbody tr th {\n",
              "        vertical-align: top;\n",
              "    }\n",
              "\n",
              "    .dataframe thead th {\n",
              "        text-align: right;\n",
              "    }\n",
              "</style>\n",
              "<table border=\"1\" class=\"dataframe\">\n",
              "  <thead>\n",
              "    <tr style=\"text-align: right;\">\n",
              "      <th></th>\n",
              "      <th>Y</th>\n",
              "      <th>X1</th>\n",
              "      <th>X2</th>\n",
              "      <th>X3</th>\n",
              "      <th>X4</th>\n",
              "      <th>X5</th>\n",
              "      <th>X6</th>\n",
              "    </tr>\n",
              "  </thead>\n",
              "  <tbody>\n",
              "    <tr>\n",
              "      <th>0</th>\n",
              "      <td>0</td>\n",
              "      <td>3</td>\n",
              "      <td>3</td>\n",
              "      <td>3</td>\n",
              "      <td>4</td>\n",
              "      <td>2</td>\n",
              "      <td>4</td>\n",
              "    </tr>\n",
              "    <tr>\n",
              "      <th>1</th>\n",
              "      <td>0</td>\n",
              "      <td>3</td>\n",
              "      <td>2</td>\n",
              "      <td>3</td>\n",
              "      <td>5</td>\n",
              "      <td>4</td>\n",
              "      <td>3</td>\n",
              "    </tr>\n",
              "    <tr>\n",
              "      <th>2</th>\n",
              "      <td>1</td>\n",
              "      <td>5</td>\n",
              "      <td>3</td>\n",
              "      <td>3</td>\n",
              "      <td>3</td>\n",
              "      <td>3</td>\n",
              "      <td>5</td>\n",
              "    </tr>\n",
              "    <tr>\n",
              "      <th>3</th>\n",
              "      <td>0</td>\n",
              "      <td>5</td>\n",
              "      <td>4</td>\n",
              "      <td>3</td>\n",
              "      <td>3</td>\n",
              "      <td>3</td>\n",
              "      <td>5</td>\n",
              "    </tr>\n",
              "    <tr>\n",
              "      <th>4</th>\n",
              "      <td>0</td>\n",
              "      <td>5</td>\n",
              "      <td>4</td>\n",
              "      <td>3</td>\n",
              "      <td>3</td>\n",
              "      <td>3</td>\n",
              "      <td>5</td>\n",
              "    </tr>\n",
              "    <tr>\n",
              "      <th>...</th>\n",
              "      <td>...</td>\n",
              "      <td>...</td>\n",
              "      <td>...</td>\n",
              "      <td>...</td>\n",
              "      <td>...</td>\n",
              "      <td>...</td>\n",
              "      <td>...</td>\n",
              "    </tr>\n",
              "    <tr>\n",
              "      <th>121</th>\n",
              "      <td>1</td>\n",
              "      <td>5</td>\n",
              "      <td>2</td>\n",
              "      <td>3</td>\n",
              "      <td>4</td>\n",
              "      <td>4</td>\n",
              "      <td>3</td>\n",
              "    </tr>\n",
              "    <tr>\n",
              "      <th>122</th>\n",
              "      <td>1</td>\n",
              "      <td>5</td>\n",
              "      <td>2</td>\n",
              "      <td>3</td>\n",
              "      <td>4</td>\n",
              "      <td>2</td>\n",
              "      <td>5</td>\n",
              "    </tr>\n",
              "    <tr>\n",
              "      <th>123</th>\n",
              "      <td>1</td>\n",
              "      <td>5</td>\n",
              "      <td>3</td>\n",
              "      <td>3</td>\n",
              "      <td>4</td>\n",
              "      <td>4</td>\n",
              "      <td>5</td>\n",
              "    </tr>\n",
              "    <tr>\n",
              "      <th>124</th>\n",
              "      <td>0</td>\n",
              "      <td>4</td>\n",
              "      <td>3</td>\n",
              "      <td>3</td>\n",
              "      <td>4</td>\n",
              "      <td>4</td>\n",
              "      <td>5</td>\n",
              "    </tr>\n",
              "    <tr>\n",
              "      <th>125</th>\n",
              "      <td>0</td>\n",
              "      <td>5</td>\n",
              "      <td>3</td>\n",
              "      <td>2</td>\n",
              "      <td>5</td>\n",
              "      <td>5</td>\n",
              "      <td>5</td>\n",
              "    </tr>\n",
              "  </tbody>\n",
              "</table>\n",
              "<p>126 rows × 7 columns</p>\n",
              "</div>\n",
              "    <div class=\"colab-df-buttons\">\n",
              "\n",
              "  <div class=\"colab-df-container\">\n",
              "    <button class=\"colab-df-convert\" onclick=\"convertToInteractive('df-cdb296db-897d-4600-9a42-ed0ca1806930')\"\n",
              "            title=\"Convert this dataframe to an interactive table.\"\n",
              "            style=\"display:none;\">\n",
              "\n",
              "  <svg xmlns=\"http://www.w3.org/2000/svg\" height=\"24px\" viewBox=\"0 -960 960 960\">\n",
              "    <path d=\"M120-120v-720h720v720H120Zm60-500h600v-160H180v160Zm220 220h160v-160H400v160Zm0 220h160v-160H400v160ZM180-400h160v-160H180v160Zm440 0h160v-160H620v160ZM180-180h160v-160H180v160Zm440 0h160v-160H620v160Z\"/>\n",
              "  </svg>\n",
              "    </button>\n",
              "\n",
              "  <style>\n",
              "    .colab-df-container {\n",
              "      display:flex;\n",
              "      gap: 12px;\n",
              "    }\n",
              "\n",
              "    .colab-df-convert {\n",
              "      background-color: #E8F0FE;\n",
              "      border: none;\n",
              "      border-radius: 50%;\n",
              "      cursor: pointer;\n",
              "      display: none;\n",
              "      fill: #1967D2;\n",
              "      height: 32px;\n",
              "      padding: 0 0 0 0;\n",
              "      width: 32px;\n",
              "    }\n",
              "\n",
              "    .colab-df-convert:hover {\n",
              "      background-color: #E2EBFA;\n",
              "      box-shadow: 0px 1px 2px rgba(60, 64, 67, 0.3), 0px 1px 3px 1px rgba(60, 64, 67, 0.15);\n",
              "      fill: #174EA6;\n",
              "    }\n",
              "\n",
              "    .colab-df-buttons div {\n",
              "      margin-bottom: 4px;\n",
              "    }\n",
              "\n",
              "    [theme=dark] .colab-df-convert {\n",
              "      background-color: #3B4455;\n",
              "      fill: #D2E3FC;\n",
              "    }\n",
              "\n",
              "    [theme=dark] .colab-df-convert:hover {\n",
              "      background-color: #434B5C;\n",
              "      box-shadow: 0px 1px 3px 1px rgba(0, 0, 0, 0.15);\n",
              "      filter: drop-shadow(0px 1px 2px rgba(0, 0, 0, 0.3));\n",
              "      fill: #FFFFFF;\n",
              "    }\n",
              "  </style>\n",
              "\n",
              "    <script>\n",
              "      const buttonEl =\n",
              "        document.querySelector('#df-cdb296db-897d-4600-9a42-ed0ca1806930 button.colab-df-convert');\n",
              "      buttonEl.style.display =\n",
              "        google.colab.kernel.accessAllowed ? 'block' : 'none';\n",
              "\n",
              "      async function convertToInteractive(key) {\n",
              "        const element = document.querySelector('#df-cdb296db-897d-4600-9a42-ed0ca1806930');\n",
              "        const dataTable =\n",
              "          await google.colab.kernel.invokeFunction('convertToInteractive',\n",
              "                                                    [key], {});\n",
              "        if (!dataTable) return;\n",
              "\n",
              "        const docLinkHtml = 'Like what you see? Visit the ' +\n",
              "          '<a target=\"_blank\" href=https://colab.research.google.com/notebooks/data_table.ipynb>data table notebook</a>'\n",
              "          + ' to learn more about interactive tables.';\n",
              "        element.innerHTML = '';\n",
              "        dataTable['output_type'] = 'display_data';\n",
              "        await google.colab.output.renderOutput(dataTable, element);\n",
              "        const docLink = document.createElement('div');\n",
              "        docLink.innerHTML = docLinkHtml;\n",
              "        element.appendChild(docLink);\n",
              "      }\n",
              "    </script>\n",
              "  </div>\n",
              "\n",
              "\n",
              "<div id=\"df-d543c08a-16ff-4ab0-80d3-590b2aa21646\">\n",
              "  <button class=\"colab-df-quickchart\" onclick=\"quickchart('df-d543c08a-16ff-4ab0-80d3-590b2aa21646')\"\n",
              "            title=\"Suggest charts\"\n",
              "            style=\"display:none;\">\n",
              "\n",
              "<svg xmlns=\"http://www.w3.org/2000/svg\" height=\"24px\"viewBox=\"0 0 24 24\"\n",
              "     width=\"24px\">\n",
              "    <g>\n",
              "        <path d=\"M19 3H5c-1.1 0-2 .9-2 2v14c0 1.1.9 2 2 2h14c1.1 0 2-.9 2-2V5c0-1.1-.9-2-2-2zM9 17H7v-7h2v7zm4 0h-2V7h2v10zm4 0h-2v-4h2v4z\"/>\n",
              "    </g>\n",
              "</svg>\n",
              "  </button>\n",
              "\n",
              "<style>\n",
              "  .colab-df-quickchart {\n",
              "      --bg-color: #E8F0FE;\n",
              "      --fill-color: #1967D2;\n",
              "      --hover-bg-color: #E2EBFA;\n",
              "      --hover-fill-color: #174EA6;\n",
              "      --disabled-fill-color: #AAA;\n",
              "      --disabled-bg-color: #DDD;\n",
              "  }\n",
              "\n",
              "  [theme=dark] .colab-df-quickchart {\n",
              "      --bg-color: #3B4455;\n",
              "      --fill-color: #D2E3FC;\n",
              "      --hover-bg-color: #434B5C;\n",
              "      --hover-fill-color: #FFFFFF;\n",
              "      --disabled-bg-color: #3B4455;\n",
              "      --disabled-fill-color: #666;\n",
              "  }\n",
              "\n",
              "  .colab-df-quickchart {\n",
              "    background-color: var(--bg-color);\n",
              "    border: none;\n",
              "    border-radius: 50%;\n",
              "    cursor: pointer;\n",
              "    display: none;\n",
              "    fill: var(--fill-color);\n",
              "    height: 32px;\n",
              "    padding: 0;\n",
              "    width: 32px;\n",
              "  }\n",
              "\n",
              "  .colab-df-quickchart:hover {\n",
              "    background-color: var(--hover-bg-color);\n",
              "    box-shadow: 0 1px 2px rgba(60, 64, 67, 0.3), 0 1px 3px 1px rgba(60, 64, 67, 0.15);\n",
              "    fill: var(--button-hover-fill-color);\n",
              "  }\n",
              "\n",
              "  .colab-df-quickchart-complete:disabled,\n",
              "  .colab-df-quickchart-complete:disabled:hover {\n",
              "    background-color: var(--disabled-bg-color);\n",
              "    fill: var(--disabled-fill-color);\n",
              "    box-shadow: none;\n",
              "  }\n",
              "\n",
              "  .colab-df-spinner {\n",
              "    border: 2px solid var(--fill-color);\n",
              "    border-color: transparent;\n",
              "    border-bottom-color: var(--fill-color);\n",
              "    animation:\n",
              "      spin 1s steps(1) infinite;\n",
              "  }\n",
              "\n",
              "  @keyframes spin {\n",
              "    0% {\n",
              "      border-color: transparent;\n",
              "      border-bottom-color: var(--fill-color);\n",
              "      border-left-color: var(--fill-color);\n",
              "    }\n",
              "    20% {\n",
              "      border-color: transparent;\n",
              "      border-left-color: var(--fill-color);\n",
              "      border-top-color: var(--fill-color);\n",
              "    }\n",
              "    30% {\n",
              "      border-color: transparent;\n",
              "      border-left-color: var(--fill-color);\n",
              "      border-top-color: var(--fill-color);\n",
              "      border-right-color: var(--fill-color);\n",
              "    }\n",
              "    40% {\n",
              "      border-color: transparent;\n",
              "      border-right-color: var(--fill-color);\n",
              "      border-top-color: var(--fill-color);\n",
              "    }\n",
              "    60% {\n",
              "      border-color: transparent;\n",
              "      border-right-color: var(--fill-color);\n",
              "    }\n",
              "    80% {\n",
              "      border-color: transparent;\n",
              "      border-right-color: var(--fill-color);\n",
              "      border-bottom-color: var(--fill-color);\n",
              "    }\n",
              "    90% {\n",
              "      border-color: transparent;\n",
              "      border-bottom-color: var(--fill-color);\n",
              "    }\n",
              "  }\n",
              "</style>\n",
              "\n",
              "  <script>\n",
              "    async function quickchart(key) {\n",
              "      const quickchartButtonEl =\n",
              "        document.querySelector('#' + key + ' button');\n",
              "      quickchartButtonEl.disabled = true;  // To prevent multiple clicks.\n",
              "      quickchartButtonEl.classList.add('colab-df-spinner');\n",
              "      try {\n",
              "        const charts = await google.colab.kernel.invokeFunction(\n",
              "            'suggestCharts', [key], {});\n",
              "      } catch (error) {\n",
              "        console.error('Error during call to suggestCharts:', error);\n",
              "      }\n",
              "      quickchartButtonEl.classList.remove('colab-df-spinner');\n",
              "      quickchartButtonEl.classList.add('colab-df-quickchart-complete');\n",
              "    }\n",
              "    (() => {\n",
              "      let quickchartButtonEl =\n",
              "        document.querySelector('#df-d543c08a-16ff-4ab0-80d3-590b2aa21646 button');\n",
              "      quickchartButtonEl.style.display =\n",
              "        google.colab.kernel.accessAllowed ? 'block' : 'none';\n",
              "    })();\n",
              "  </script>\n",
              "</div>\n",
              "    </div>\n",
              "  </div>\n"
            ],
            "application/vnd.google.colaboratory.intrinsic+json": {
              "type": "dataframe",
              "variable_name": "survey_df",
              "summary": "{\n  \"name\": \"survey_df\",\n  \"rows\": 126,\n  \"fields\": [\n    {\n      \"column\": \"Y\",\n      \"properties\": {\n        \"dtype\": \"number\",\n        \"std\": 0,\n        \"min\": 0,\n        \"max\": 1,\n        \"num_unique_values\": 2,\n        \"samples\": [\n          1,\n          0\n        ],\n        \"semantic_type\": \"\",\n        \"description\": \"\"\n      }\n    },\n    {\n      \"column\": \"X1\",\n      \"properties\": {\n        \"dtype\": \"number\",\n        \"std\": 0,\n        \"min\": 1,\n        \"max\": 5,\n        \"num_unique_values\": 4,\n        \"samples\": [\n          5,\n          1\n        ],\n        \"semantic_type\": \"\",\n        \"description\": \"\"\n      }\n    },\n    {\n      \"column\": \"X2\",\n      \"properties\": {\n        \"dtype\": \"number\",\n        \"std\": 1,\n        \"min\": 1,\n        \"max\": 5,\n        \"num_unique_values\": 5,\n        \"samples\": [\n          2,\n          1\n        ],\n        \"semantic_type\": \"\",\n        \"description\": \"\"\n      }\n    },\n    {\n      \"column\": \"X3\",\n      \"properties\": {\n        \"dtype\": \"number\",\n        \"std\": 1,\n        \"min\": 1,\n        \"max\": 5,\n        \"num_unique_values\": 5,\n        \"samples\": [\n          2,\n          1\n        ],\n        \"semantic_type\": \"\",\n        \"description\": \"\"\n      }\n    },\n    {\n      \"column\": \"X4\",\n      \"properties\": {\n        \"dtype\": \"number\",\n        \"std\": 0,\n        \"min\": 1,\n        \"max\": 5,\n        \"num_unique_values\": 5,\n        \"samples\": [\n          5,\n          1\n        ],\n        \"semantic_type\": \"\",\n        \"description\": \"\"\n      }\n    },\n    {\n      \"column\": \"X5\",\n      \"properties\": {\n        \"dtype\": \"number\",\n        \"std\": 1,\n        \"min\": 1,\n        \"max\": 5,\n        \"num_unique_values\": 5,\n        \"samples\": [\n          4,\n          1\n        ],\n        \"semantic_type\": \"\",\n        \"description\": \"\"\n      }\n    },\n    {\n      \"column\": \"X6\",\n      \"properties\": {\n        \"dtype\": \"number\",\n        \"std\": 0,\n        \"min\": 1,\n        \"max\": 5,\n        \"num_unique_values\": 5,\n        \"samples\": [\n          3,\n          1\n        ],\n        \"semantic_type\": \"\",\n        \"description\": \"\"\n      }\n    }\n  ]\n}"
            }
          },
          "metadata": {},
          "execution_count": 3
        }
      ]
    },
    {
      "cell_type": "markdown",
      "source": [
        "Very small portion of data, be careful with overfitting"
      ],
      "metadata": {
        "id": "XmO8ir-ZINlb"
      }
    },
    {
      "cell_type": "markdown",
      "source": [
        "## Check Whether its a Balanced Dataset"
      ],
      "metadata": {
        "id": "R61b3M-qdHpp"
      }
    },
    {
      "cell_type": "code",
      "source": [
        "survey_df[\"Y\"].value_counts(normalize=True)"
      ],
      "metadata": {
        "colab": {
          "base_uri": "https://localhost:8080/"
        },
        "id": "_LKRb_FVdTXw",
        "outputId": "5a3ed4a9-d0f3-4283-e793-9062fffb31e0"
      },
      "execution_count": 4,
      "outputs": [
        {
          "output_type": "execute_result",
          "data": {
            "text/plain": [
              "1    0.547619\n",
              "0    0.452381\n",
              "Name: Y, dtype: float64"
            ]
          },
          "metadata": {},
          "execution_count": 4
        }
      ]
    },
    {
      "cell_type": "markdown",
      "source": [
        "## Statistics"
      ],
      "metadata": {
        "id": "SRwFsxql2ZE0"
      }
    },
    {
      "cell_type": "code",
      "source": [
        "## Data Type and Missing Values\n",
        "survey_df.info()"
      ],
      "metadata": {
        "colab": {
          "base_uri": "https://localhost:8080/"
        },
        "id": "w2zA2d-uzs2q",
        "outputId": "27c9791a-8ad8-475f-f863-16035f7608c7"
      },
      "execution_count": 5,
      "outputs": [
        {
          "output_type": "stream",
          "name": "stdout",
          "text": [
            "<class 'pandas.core.frame.DataFrame'>\n",
            "RangeIndex: 126 entries, 0 to 125\n",
            "Data columns (total 7 columns):\n",
            " #   Column  Non-Null Count  Dtype\n",
            "---  ------  --------------  -----\n",
            " 0   Y       126 non-null    int64\n",
            " 1   X1      126 non-null    int64\n",
            " 2   X2      126 non-null    int64\n",
            " 3   X3      126 non-null    int64\n",
            " 4   X4      126 non-null    int64\n",
            " 5   X5      126 non-null    int64\n",
            " 6   X6      126 non-null    int64\n",
            "dtypes: int64(7)\n",
            "memory usage: 7.0 KB\n"
          ]
        }
      ]
    },
    {
      "cell_type": "markdown",
      "source": [
        "No missing values"
      ],
      "metadata": {
        "id": "HdoV0iRd2i44"
      }
    },
    {
      "cell_type": "code",
      "source": [
        "survey_df.describe()"
      ],
      "metadata": {
        "colab": {
          "base_uri": "https://localhost:8080/",
          "height": 300
        },
        "id": "QYh123vS1dk5",
        "outputId": "5b5282f1-b286-47a4-feeb-edfcdb872d54"
      },
      "execution_count": 6,
      "outputs": [
        {
          "output_type": "execute_result",
          "data": {
            "text/plain": [
              "                Y          X1          X2          X3          X4          X5  \\\n",
              "count  126.000000  126.000000  126.000000  126.000000  126.000000  126.000000   \n",
              "mean     0.547619    4.333333    2.531746    3.309524    3.746032    3.650794   \n",
              "std      0.499714    0.800000    1.114892    1.023440    0.875776    1.147641   \n",
              "min      0.000000    1.000000    1.000000    1.000000    1.000000    1.000000   \n",
              "25%      0.000000    4.000000    2.000000    3.000000    3.000000    3.000000   \n",
              "50%      1.000000    5.000000    3.000000    3.000000    4.000000    4.000000   \n",
              "75%      1.000000    5.000000    3.000000    4.000000    4.000000    4.000000   \n",
              "max      1.000000    5.000000    5.000000    5.000000    5.000000    5.000000   \n",
              "\n",
              "               X6  \n",
              "count  126.000000  \n",
              "mean     4.253968  \n",
              "std      0.809311  \n",
              "min      1.000000  \n",
              "25%      4.000000  \n",
              "50%      4.000000  \n",
              "75%      5.000000  \n",
              "max      5.000000  "
            ],
            "text/html": [
              "\n",
              "  <div id=\"df-6485170c-b31f-4182-8497-7c5994f7f93b\" class=\"colab-df-container\">\n",
              "    <div>\n",
              "<style scoped>\n",
              "    .dataframe tbody tr th:only-of-type {\n",
              "        vertical-align: middle;\n",
              "    }\n",
              "\n",
              "    .dataframe tbody tr th {\n",
              "        vertical-align: top;\n",
              "    }\n",
              "\n",
              "    .dataframe thead th {\n",
              "        text-align: right;\n",
              "    }\n",
              "</style>\n",
              "<table border=\"1\" class=\"dataframe\">\n",
              "  <thead>\n",
              "    <tr style=\"text-align: right;\">\n",
              "      <th></th>\n",
              "      <th>Y</th>\n",
              "      <th>X1</th>\n",
              "      <th>X2</th>\n",
              "      <th>X3</th>\n",
              "      <th>X4</th>\n",
              "      <th>X5</th>\n",
              "      <th>X6</th>\n",
              "    </tr>\n",
              "  </thead>\n",
              "  <tbody>\n",
              "    <tr>\n",
              "      <th>count</th>\n",
              "      <td>126.000000</td>\n",
              "      <td>126.000000</td>\n",
              "      <td>126.000000</td>\n",
              "      <td>126.000000</td>\n",
              "      <td>126.000000</td>\n",
              "      <td>126.000000</td>\n",
              "      <td>126.000000</td>\n",
              "    </tr>\n",
              "    <tr>\n",
              "      <th>mean</th>\n",
              "      <td>0.547619</td>\n",
              "      <td>4.333333</td>\n",
              "      <td>2.531746</td>\n",
              "      <td>3.309524</td>\n",
              "      <td>3.746032</td>\n",
              "      <td>3.650794</td>\n",
              "      <td>4.253968</td>\n",
              "    </tr>\n",
              "    <tr>\n",
              "      <th>std</th>\n",
              "      <td>0.499714</td>\n",
              "      <td>0.800000</td>\n",
              "      <td>1.114892</td>\n",
              "      <td>1.023440</td>\n",
              "      <td>0.875776</td>\n",
              "      <td>1.147641</td>\n",
              "      <td>0.809311</td>\n",
              "    </tr>\n",
              "    <tr>\n",
              "      <th>min</th>\n",
              "      <td>0.000000</td>\n",
              "      <td>1.000000</td>\n",
              "      <td>1.000000</td>\n",
              "      <td>1.000000</td>\n",
              "      <td>1.000000</td>\n",
              "      <td>1.000000</td>\n",
              "      <td>1.000000</td>\n",
              "    </tr>\n",
              "    <tr>\n",
              "      <th>25%</th>\n",
              "      <td>0.000000</td>\n",
              "      <td>4.000000</td>\n",
              "      <td>2.000000</td>\n",
              "      <td>3.000000</td>\n",
              "      <td>3.000000</td>\n",
              "      <td>3.000000</td>\n",
              "      <td>4.000000</td>\n",
              "    </tr>\n",
              "    <tr>\n",
              "      <th>50%</th>\n",
              "      <td>1.000000</td>\n",
              "      <td>5.000000</td>\n",
              "      <td>3.000000</td>\n",
              "      <td>3.000000</td>\n",
              "      <td>4.000000</td>\n",
              "      <td>4.000000</td>\n",
              "      <td>4.000000</td>\n",
              "    </tr>\n",
              "    <tr>\n",
              "      <th>75%</th>\n",
              "      <td>1.000000</td>\n",
              "      <td>5.000000</td>\n",
              "      <td>3.000000</td>\n",
              "      <td>4.000000</td>\n",
              "      <td>4.000000</td>\n",
              "      <td>4.000000</td>\n",
              "      <td>5.000000</td>\n",
              "    </tr>\n",
              "    <tr>\n",
              "      <th>max</th>\n",
              "      <td>1.000000</td>\n",
              "      <td>5.000000</td>\n",
              "      <td>5.000000</td>\n",
              "      <td>5.000000</td>\n",
              "      <td>5.000000</td>\n",
              "      <td>5.000000</td>\n",
              "      <td>5.000000</td>\n",
              "    </tr>\n",
              "  </tbody>\n",
              "</table>\n",
              "</div>\n",
              "    <div class=\"colab-df-buttons\">\n",
              "\n",
              "  <div class=\"colab-df-container\">\n",
              "    <button class=\"colab-df-convert\" onclick=\"convertToInteractive('df-6485170c-b31f-4182-8497-7c5994f7f93b')\"\n",
              "            title=\"Convert this dataframe to an interactive table.\"\n",
              "            style=\"display:none;\">\n",
              "\n",
              "  <svg xmlns=\"http://www.w3.org/2000/svg\" height=\"24px\" viewBox=\"0 -960 960 960\">\n",
              "    <path d=\"M120-120v-720h720v720H120Zm60-500h600v-160H180v160Zm220 220h160v-160H400v160Zm0 220h160v-160H400v160ZM180-400h160v-160H180v160Zm440 0h160v-160H620v160ZM180-180h160v-160H180v160Zm440 0h160v-160H620v160Z\"/>\n",
              "  </svg>\n",
              "    </button>\n",
              "\n",
              "  <style>\n",
              "    .colab-df-container {\n",
              "      display:flex;\n",
              "      gap: 12px;\n",
              "    }\n",
              "\n",
              "    .colab-df-convert {\n",
              "      background-color: #E8F0FE;\n",
              "      border: none;\n",
              "      border-radius: 50%;\n",
              "      cursor: pointer;\n",
              "      display: none;\n",
              "      fill: #1967D2;\n",
              "      height: 32px;\n",
              "      padding: 0 0 0 0;\n",
              "      width: 32px;\n",
              "    }\n",
              "\n",
              "    .colab-df-convert:hover {\n",
              "      background-color: #E2EBFA;\n",
              "      box-shadow: 0px 1px 2px rgba(60, 64, 67, 0.3), 0px 1px 3px 1px rgba(60, 64, 67, 0.15);\n",
              "      fill: #174EA6;\n",
              "    }\n",
              "\n",
              "    .colab-df-buttons div {\n",
              "      margin-bottom: 4px;\n",
              "    }\n",
              "\n",
              "    [theme=dark] .colab-df-convert {\n",
              "      background-color: #3B4455;\n",
              "      fill: #D2E3FC;\n",
              "    }\n",
              "\n",
              "    [theme=dark] .colab-df-convert:hover {\n",
              "      background-color: #434B5C;\n",
              "      box-shadow: 0px 1px 3px 1px rgba(0, 0, 0, 0.15);\n",
              "      filter: drop-shadow(0px 1px 2px rgba(0, 0, 0, 0.3));\n",
              "      fill: #FFFFFF;\n",
              "    }\n",
              "  </style>\n",
              "\n",
              "    <script>\n",
              "      const buttonEl =\n",
              "        document.querySelector('#df-6485170c-b31f-4182-8497-7c5994f7f93b button.colab-df-convert');\n",
              "      buttonEl.style.display =\n",
              "        google.colab.kernel.accessAllowed ? 'block' : 'none';\n",
              "\n",
              "      async function convertToInteractive(key) {\n",
              "        const element = document.querySelector('#df-6485170c-b31f-4182-8497-7c5994f7f93b');\n",
              "        const dataTable =\n",
              "          await google.colab.kernel.invokeFunction('convertToInteractive',\n",
              "                                                    [key], {});\n",
              "        if (!dataTable) return;\n",
              "\n",
              "        const docLinkHtml = 'Like what you see? Visit the ' +\n",
              "          '<a target=\"_blank\" href=https://colab.research.google.com/notebooks/data_table.ipynb>data table notebook</a>'\n",
              "          + ' to learn more about interactive tables.';\n",
              "        element.innerHTML = '';\n",
              "        dataTable['output_type'] = 'display_data';\n",
              "        await google.colab.output.renderOutput(dataTable, element);\n",
              "        const docLink = document.createElement('div');\n",
              "        docLink.innerHTML = docLinkHtml;\n",
              "        element.appendChild(docLink);\n",
              "      }\n",
              "    </script>\n",
              "  </div>\n",
              "\n",
              "\n",
              "<div id=\"df-753c29fd-bb10-4de3-a537-f15bdb13a810\">\n",
              "  <button class=\"colab-df-quickchart\" onclick=\"quickchart('df-753c29fd-bb10-4de3-a537-f15bdb13a810')\"\n",
              "            title=\"Suggest charts\"\n",
              "            style=\"display:none;\">\n",
              "\n",
              "<svg xmlns=\"http://www.w3.org/2000/svg\" height=\"24px\"viewBox=\"0 0 24 24\"\n",
              "     width=\"24px\">\n",
              "    <g>\n",
              "        <path d=\"M19 3H5c-1.1 0-2 .9-2 2v14c0 1.1.9 2 2 2h14c1.1 0 2-.9 2-2V5c0-1.1-.9-2-2-2zM9 17H7v-7h2v7zm4 0h-2V7h2v10zm4 0h-2v-4h2v4z\"/>\n",
              "    </g>\n",
              "</svg>\n",
              "  </button>\n",
              "\n",
              "<style>\n",
              "  .colab-df-quickchart {\n",
              "      --bg-color: #E8F0FE;\n",
              "      --fill-color: #1967D2;\n",
              "      --hover-bg-color: #E2EBFA;\n",
              "      --hover-fill-color: #174EA6;\n",
              "      --disabled-fill-color: #AAA;\n",
              "      --disabled-bg-color: #DDD;\n",
              "  }\n",
              "\n",
              "  [theme=dark] .colab-df-quickchart {\n",
              "      --bg-color: #3B4455;\n",
              "      --fill-color: #D2E3FC;\n",
              "      --hover-bg-color: #434B5C;\n",
              "      --hover-fill-color: #FFFFFF;\n",
              "      --disabled-bg-color: #3B4455;\n",
              "      --disabled-fill-color: #666;\n",
              "  }\n",
              "\n",
              "  .colab-df-quickchart {\n",
              "    background-color: var(--bg-color);\n",
              "    border: none;\n",
              "    border-radius: 50%;\n",
              "    cursor: pointer;\n",
              "    display: none;\n",
              "    fill: var(--fill-color);\n",
              "    height: 32px;\n",
              "    padding: 0;\n",
              "    width: 32px;\n",
              "  }\n",
              "\n",
              "  .colab-df-quickchart:hover {\n",
              "    background-color: var(--hover-bg-color);\n",
              "    box-shadow: 0 1px 2px rgba(60, 64, 67, 0.3), 0 1px 3px 1px rgba(60, 64, 67, 0.15);\n",
              "    fill: var(--button-hover-fill-color);\n",
              "  }\n",
              "\n",
              "  .colab-df-quickchart-complete:disabled,\n",
              "  .colab-df-quickchart-complete:disabled:hover {\n",
              "    background-color: var(--disabled-bg-color);\n",
              "    fill: var(--disabled-fill-color);\n",
              "    box-shadow: none;\n",
              "  }\n",
              "\n",
              "  .colab-df-spinner {\n",
              "    border: 2px solid var(--fill-color);\n",
              "    border-color: transparent;\n",
              "    border-bottom-color: var(--fill-color);\n",
              "    animation:\n",
              "      spin 1s steps(1) infinite;\n",
              "  }\n",
              "\n",
              "  @keyframes spin {\n",
              "    0% {\n",
              "      border-color: transparent;\n",
              "      border-bottom-color: var(--fill-color);\n",
              "      border-left-color: var(--fill-color);\n",
              "    }\n",
              "    20% {\n",
              "      border-color: transparent;\n",
              "      border-left-color: var(--fill-color);\n",
              "      border-top-color: var(--fill-color);\n",
              "    }\n",
              "    30% {\n",
              "      border-color: transparent;\n",
              "      border-left-color: var(--fill-color);\n",
              "      border-top-color: var(--fill-color);\n",
              "      border-right-color: var(--fill-color);\n",
              "    }\n",
              "    40% {\n",
              "      border-color: transparent;\n",
              "      border-right-color: var(--fill-color);\n",
              "      border-top-color: var(--fill-color);\n",
              "    }\n",
              "    60% {\n",
              "      border-color: transparent;\n",
              "      border-right-color: var(--fill-color);\n",
              "    }\n",
              "    80% {\n",
              "      border-color: transparent;\n",
              "      border-right-color: var(--fill-color);\n",
              "      border-bottom-color: var(--fill-color);\n",
              "    }\n",
              "    90% {\n",
              "      border-color: transparent;\n",
              "      border-bottom-color: var(--fill-color);\n",
              "    }\n",
              "  }\n",
              "</style>\n",
              "\n",
              "  <script>\n",
              "    async function quickchart(key) {\n",
              "      const quickchartButtonEl =\n",
              "        document.querySelector('#' + key + ' button');\n",
              "      quickchartButtonEl.disabled = true;  // To prevent multiple clicks.\n",
              "      quickchartButtonEl.classList.add('colab-df-spinner');\n",
              "      try {\n",
              "        const charts = await google.colab.kernel.invokeFunction(\n",
              "            'suggestCharts', [key], {});\n",
              "      } catch (error) {\n",
              "        console.error('Error during call to suggestCharts:', error);\n",
              "      }\n",
              "      quickchartButtonEl.classList.remove('colab-df-spinner');\n",
              "      quickchartButtonEl.classList.add('colab-df-quickchart-complete');\n",
              "    }\n",
              "    (() => {\n",
              "      let quickchartButtonEl =\n",
              "        document.querySelector('#df-753c29fd-bb10-4de3-a537-f15bdb13a810 button');\n",
              "      quickchartButtonEl.style.display =\n",
              "        google.colab.kernel.accessAllowed ? 'block' : 'none';\n",
              "    })();\n",
              "  </script>\n",
              "</div>\n",
              "    </div>\n",
              "  </div>\n"
            ],
            "application/vnd.google.colaboratory.intrinsic+json": {
              "type": "dataframe",
              "summary": "{\n  \"name\": \"survey_df\",\n  \"rows\": 8,\n  \"fields\": [\n    {\n      \"column\": \"Y\",\n      \"properties\": {\n        \"dtype\": \"number\",\n        \"std\": 44.34525419957374,\n        \"min\": 0.0,\n        \"max\": 126.0,\n        \"num_unique_values\": 5,\n        \"samples\": [\n          0.5476190476190477,\n          1.0,\n          0.4997142040349521\n        ],\n        \"semantic_type\": \"\",\n        \"description\": \"\"\n      }\n    },\n    {\n      \"column\": \"X1\",\n      \"properties\": {\n        \"dtype\": \"number\",\n        \"std\": 43.31323984686144,\n        \"min\": 0.8,\n        \"max\": 126.0,\n        \"num_unique_values\": 6,\n        \"samples\": [\n          126.0,\n          4.333333333333333,\n          5.0\n        ],\n        \"semantic_type\": \"\",\n        \"description\": \"\"\n      }\n    },\n    {\n      \"column\": \"X2\",\n      \"properties\": {\n        \"dtype\": \"number\",\n        \"std\": 43.6747036061378,\n        \"min\": 1.0,\n        \"max\": 126.0,\n        \"num_unique_values\": 7,\n        \"samples\": [\n          126.0,\n          2.5317460317460316,\n          3.0\n        ],\n        \"semantic_type\": \"\",\n        \"description\": \"\"\n      }\n    },\n    {\n      \"column\": \"X3\",\n      \"properties\": {\n        \"dtype\": \"number\",\n        \"std\": 43.5419885277691,\n        \"min\": 1.0,\n        \"max\": 126.0,\n        \"num_unique_values\": 7,\n        \"samples\": [\n          126.0,\n          3.3095238095238093,\n          4.0\n        ],\n        \"semantic_type\": \"\",\n        \"description\": \"\"\n      }\n    },\n    {\n      \"column\": \"X4\",\n      \"properties\": {\n        \"dtype\": \"number\",\n        \"std\": 43.480332108134476,\n        \"min\": 0.8757762996245827,\n        \"max\": 126.0,\n        \"num_unique_values\": 7,\n        \"samples\": [\n          126.0,\n          3.746031746031746,\n          4.0\n        ],\n        \"semantic_type\": \"\",\n        \"description\": \"\"\n      }\n    },\n    {\n      \"column\": \"X5\",\n      \"properties\": {\n        \"dtype\": \"number\",\n        \"std\": 43.46936231586972,\n        \"min\": 1.0,\n        \"max\": 126.0,\n        \"num_unique_values\": 7,\n        \"samples\": [\n          126.0,\n          3.6507936507936507,\n          4.0\n        ],\n        \"semantic_type\": \"\",\n        \"description\": \"\"\n      }\n    },\n    {\n      \"column\": \"X6\",\n      \"properties\": {\n        \"dtype\": \"number\",\n        \"std\": 43.36370727654915,\n        \"min\": 0.8093108963705646,\n        \"max\": 126.0,\n        \"num_unique_values\": 6,\n        \"samples\": [\n          126.0,\n          4.253968253968254,\n          5.0\n        ],\n        \"semantic_type\": \"\",\n        \"description\": \"\"\n      }\n    }\n  ]\n}"
            }
          },
          "metadata": {},
          "execution_count": 6
        }
      ]
    },
    {
      "cell_type": "markdown",
      "source": [
        "- distribution of each column -- not needed now"
      ],
      "metadata": {
        "id": "IRBoSgpC2qBO"
      }
    },
    {
      "cell_type": "code",
      "source": [
        "corr = survey_df.corr(numeric_only = True)\n",
        "corr.style.background_gradient(cmap='coolwarm')"
      ],
      "metadata": {
        "colab": {
          "base_uri": "https://localhost:8080/",
          "height": 269
        },
        "id": "5nQfz2zJ93f0",
        "outputId": "3e6f9901-d4ab-4061-e6be-805f250da240"
      },
      "execution_count": 7,
      "outputs": [
        {
          "output_type": "execute_result",
          "data": {
            "text/plain": [
              "<pandas.io.formats.style.Styler at 0x7edd507c5480>"
            ],
            "text/html": [
              "<style type=\"text/css\">\n",
              "#T_16300_row0_col0, #T_16300_row1_col1, #T_16300_row2_col2, #T_16300_row3_col3, #T_16300_row4_col4, #T_16300_row5_col5, #T_16300_row6_col6 {\n",
              "  background-color: #b40426;\n",
              "  color: #f1f1f1;\n",
              "}\n",
              "#T_16300_row0_col1, #T_16300_row3_col1 {\n",
              "  background-color: #88abfd;\n",
              "  color: #000000;\n",
              "}\n",
              "#T_16300_row0_col2 {\n",
              "  background-color: #455cce;\n",
              "  color: #f1f1f1;\n",
              "}\n",
              "#T_16300_row0_col3, #T_16300_row0_col4, #T_16300_row2_col0, #T_16300_row2_col1, #T_16300_row2_col5, #T_16300_row2_col6, #T_16300_row6_col2 {\n",
              "  background-color: #3b4cc0;\n",
              "  color: #f1f1f1;\n",
              "}\n",
              "#T_16300_row0_col5 {\n",
              "  background-color: #799cf8;\n",
              "  color: #f1f1f1;\n",
              "}\n",
              "#T_16300_row0_col6 {\n",
              "  background-color: #81a4fb;\n",
              "  color: #f1f1f1;\n",
              "}\n",
              "#T_16300_row1_col0 {\n",
              "  background-color: #9ebeff;\n",
              "  color: #000000;\n",
              "}\n",
              "#T_16300_row1_col2 {\n",
              "  background-color: #5e7de7;\n",
              "  color: #f1f1f1;\n",
              "}\n",
              "#T_16300_row1_col3 {\n",
              "  background-color: #6b8df0;\n",
              "  color: #f1f1f1;\n",
              "}\n",
              "#T_16300_row1_col4 {\n",
              "  background-color: #4257c9;\n",
              "  color: #f1f1f1;\n",
              "}\n",
              "#T_16300_row1_col5 {\n",
              "  background-color: #c3d5f4;\n",
              "  color: #000000;\n",
              "}\n",
              "#T_16300_row1_col6 {\n",
              "  background-color: #cedaeb;\n",
              "  color: #000000;\n",
              "}\n",
              "#T_16300_row2_col3 {\n",
              "  background-color: #465ecf;\n",
              "  color: #f1f1f1;\n",
              "}\n",
              "#T_16300_row2_col4 {\n",
              "  background-color: #4a63d3;\n",
              "  color: #f1f1f1;\n",
              "}\n",
              "#T_16300_row3_col0 {\n",
              "  background-color: #7093f3;\n",
              "  color: #f1f1f1;\n",
              "}\n",
              "#T_16300_row3_col2 {\n",
              "  background-color: #86a9fc;\n",
              "  color: #f1f1f1;\n",
              "}\n",
              "#T_16300_row3_col4 {\n",
              "  background-color: #8fb1fe;\n",
              "  color: #000000;\n",
              "}\n",
              "#T_16300_row3_col5 {\n",
              "  background-color: #a9c6fd;\n",
              "  color: #000000;\n",
              "}\n",
              "#T_16300_row3_col6 {\n",
              "  background-color: #8db0fe;\n",
              "  color: #000000;\n",
              "}\n",
              "#T_16300_row4_col0 {\n",
              "  background-color: #5572df;\n",
              "  color: #f1f1f1;\n",
              "}\n",
              "#T_16300_row4_col1 {\n",
              "  background-color: #4358cb;\n",
              "  color: #f1f1f1;\n",
              "}\n",
              "#T_16300_row4_col2 {\n",
              "  background-color: #6f92f3;\n",
              "  color: #f1f1f1;\n",
              "}\n",
              "#T_16300_row4_col3 {\n",
              "  background-color: #7396f5;\n",
              "  color: #f1f1f1;\n",
              "}\n",
              "#T_16300_row4_col5, #T_16300_row4_col6 {\n",
              "  background-color: #92b4fe;\n",
              "  color: #000000;\n",
              "}\n",
              "#T_16300_row5_col0, #T_16300_row5_col3, #T_16300_row5_col4 {\n",
              "  background-color: #8badfd;\n",
              "  color: #000000;\n",
              "}\n",
              "#T_16300_row5_col1 {\n",
              "  background-color: #bfd3f6;\n",
              "  color: #000000;\n",
              "}\n",
              "#T_16300_row5_col2 {\n",
              "  background-color: #5875e1;\n",
              "  color: #f1f1f1;\n",
              "}\n",
              "#T_16300_row5_col6 {\n",
              "  background-color: #b3cdfb;\n",
              "  color: #000000;\n",
              "}\n",
              "#T_16300_row6_col0 {\n",
              "  background-color: #7699f6;\n",
              "  color: #f1f1f1;\n",
              "}\n",
              "#T_16300_row6_col1 {\n",
              "  background-color: #b7cff9;\n",
              "  color: #000000;\n",
              "}\n",
              "#T_16300_row6_col3 {\n",
              "  background-color: #4c66d6;\n",
              "  color: #f1f1f1;\n",
              "}\n",
              "#T_16300_row6_col4 {\n",
              "  background-color: #6e90f2;\n",
              "  color: #f1f1f1;\n",
              "}\n",
              "#T_16300_row6_col5 {\n",
              "  background-color: #9bbcff;\n",
              "  color: #000000;\n",
              "}\n",
              "</style>\n",
              "<table id=\"T_16300\" class=\"dataframe\">\n",
              "  <thead>\n",
              "    <tr>\n",
              "      <th class=\"blank level0\" >&nbsp;</th>\n",
              "      <th id=\"T_16300_level0_col0\" class=\"col_heading level0 col0\" >Y</th>\n",
              "      <th id=\"T_16300_level0_col1\" class=\"col_heading level0 col1\" >X1</th>\n",
              "      <th id=\"T_16300_level0_col2\" class=\"col_heading level0 col2\" >X2</th>\n",
              "      <th id=\"T_16300_level0_col3\" class=\"col_heading level0 col3\" >X3</th>\n",
              "      <th id=\"T_16300_level0_col4\" class=\"col_heading level0 col4\" >X4</th>\n",
              "      <th id=\"T_16300_level0_col5\" class=\"col_heading level0 col5\" >X5</th>\n",
              "      <th id=\"T_16300_level0_col6\" class=\"col_heading level0 col6\" >X6</th>\n",
              "    </tr>\n",
              "  </thead>\n",
              "  <tbody>\n",
              "    <tr>\n",
              "      <th id=\"T_16300_level0_row0\" class=\"row_heading level0 row0\" >Y</th>\n",
              "      <td id=\"T_16300_row0_col0\" class=\"data row0 col0\" >1.000000</td>\n",
              "      <td id=\"T_16300_row0_col1\" class=\"data row0 col1\" >0.280160</td>\n",
              "      <td id=\"T_16300_row0_col2\" class=\"data row0 col2\" >-0.024274</td>\n",
              "      <td id=\"T_16300_row0_col3\" class=\"data row0 col3\" >0.150838</td>\n",
              "      <td id=\"T_16300_row0_col4\" class=\"data row0 col4\" >0.064415</td>\n",
              "      <td id=\"T_16300_row0_col5\" class=\"data row0 col5\" >0.224522</td>\n",
              "      <td id=\"T_16300_row0_col6\" class=\"data row0 col6\" >0.167669</td>\n",
              "    </tr>\n",
              "    <tr>\n",
              "      <th id=\"T_16300_level0_row1\" class=\"row_heading level0 row1\" >X1</th>\n",
              "      <td id=\"T_16300_row1_col0\" class=\"data row1 col0\" >0.280160</td>\n",
              "      <td id=\"T_16300_row1_col1\" class=\"data row1 col1\" >1.000000</td>\n",
              "      <td id=\"T_16300_row1_col2\" class=\"data row1 col2\" >0.059797</td>\n",
              "      <td id=\"T_16300_row1_col3\" class=\"data row1 col3\" >0.283358</td>\n",
              "      <td id=\"T_16300_row1_col4\" class=\"data row1 col4\" >0.087541</td>\n",
              "      <td id=\"T_16300_row1_col5\" class=\"data row1 col5\" >0.432772</td>\n",
              "      <td id=\"T_16300_row1_col6\" class=\"data row1 col6\" >0.411873</td>\n",
              "    </tr>\n",
              "    <tr>\n",
              "      <th id=\"T_16300_level0_row2\" class=\"row_heading level0 row2\" >X2</th>\n",
              "      <td id=\"T_16300_row2_col0\" class=\"data row2 col0\" >-0.024274</td>\n",
              "      <td id=\"T_16300_row2_col1\" class=\"data row2 col1\" >0.059797</td>\n",
              "      <td id=\"T_16300_row2_col2\" class=\"data row2 col2\" >1.000000</td>\n",
              "      <td id=\"T_16300_row2_col3\" class=\"data row2 col3\" >0.184129</td>\n",
              "      <td id=\"T_16300_row2_col4\" class=\"data row2 col4\" >0.114838</td>\n",
              "      <td id=\"T_16300_row2_col5\" class=\"data row2 col5\" >0.039996</td>\n",
              "      <td id=\"T_16300_row2_col6\" class=\"data row2 col6\" >-0.062205</td>\n",
              "    </tr>\n",
              "    <tr>\n",
              "      <th id=\"T_16300_level0_row3\" class=\"row_heading level0 row3\" >X3</th>\n",
              "      <td id=\"T_16300_row3_col0\" class=\"data row3 col0\" >0.150838</td>\n",
              "      <td id=\"T_16300_row3_col1\" class=\"data row3 col1\" >0.283358</td>\n",
              "      <td id=\"T_16300_row3_col2\" class=\"data row3 col2\" >0.184129</td>\n",
              "      <td id=\"T_16300_row3_col3\" class=\"data row3 col3\" >1.000000</td>\n",
              "      <td id=\"T_16300_row3_col4\" class=\"data row3 col4\" >0.302618</td>\n",
              "      <td id=\"T_16300_row3_col5\" class=\"data row3 col5\" >0.358397</td>\n",
              "      <td id=\"T_16300_row3_col6\" class=\"data row3 col6\" >0.203750</td>\n",
              "    </tr>\n",
              "    <tr>\n",
              "      <th id=\"T_16300_level0_row4\" class=\"row_heading level0 row4\" >X4</th>\n",
              "      <td id=\"T_16300_row4_col0\" class=\"data row4 col0\" >0.064415</td>\n",
              "      <td id=\"T_16300_row4_col1\" class=\"data row4 col1\" >0.087541</td>\n",
              "      <td id=\"T_16300_row4_col2\" class=\"data row4 col2\" >0.114838</td>\n",
              "      <td id=\"T_16300_row4_col3\" class=\"data row4 col3\" >0.302618</td>\n",
              "      <td id=\"T_16300_row4_col4\" class=\"data row4 col4\" >1.000000</td>\n",
              "      <td id=\"T_16300_row4_col5\" class=\"data row4 col5\" >0.293115</td>\n",
              "      <td id=\"T_16300_row4_col6\" class=\"data row4 col6\" >0.215888</td>\n",
              "    </tr>\n",
              "    <tr>\n",
              "      <th id=\"T_16300_level0_row5\" class=\"row_heading level0 row5\" >X5</th>\n",
              "      <td id=\"T_16300_row5_col0\" class=\"data row5 col0\" >0.224522</td>\n",
              "      <td id=\"T_16300_row5_col1\" class=\"data row5 col1\" >0.432772</td>\n",
              "      <td id=\"T_16300_row5_col2\" class=\"data row5 col2\" >0.039996</td>\n",
              "      <td id=\"T_16300_row5_col3\" class=\"data row5 col3\" >0.358397</td>\n",
              "      <td id=\"T_16300_row5_col4\" class=\"data row5 col4\" >0.293115</td>\n",
              "      <td id=\"T_16300_row5_col5\" class=\"data row5 col5\" >1.000000</td>\n",
              "      <td id=\"T_16300_row5_col6\" class=\"data row5 col6\" >0.320195</td>\n",
              "    </tr>\n",
              "    <tr>\n",
              "      <th id=\"T_16300_level0_row6\" class=\"row_heading level0 row6\" >X6</th>\n",
              "      <td id=\"T_16300_row6_col0\" class=\"data row6 col0\" >0.167669</td>\n",
              "      <td id=\"T_16300_row6_col1\" class=\"data row6 col1\" >0.411873</td>\n",
              "      <td id=\"T_16300_row6_col2\" class=\"data row6 col2\" >-0.062205</td>\n",
              "      <td id=\"T_16300_row6_col3\" class=\"data row6 col3\" >0.203750</td>\n",
              "      <td id=\"T_16300_row6_col4\" class=\"data row6 col4\" >0.215888</td>\n",
              "      <td id=\"T_16300_row6_col5\" class=\"data row6 col5\" >0.320195</td>\n",
              "      <td id=\"T_16300_row6_col6\" class=\"data row6 col6\" >1.000000</td>\n",
              "    </tr>\n",
              "  </tbody>\n",
              "</table>\n"
            ]
          },
          "metadata": {},
          "execution_count": 7
        }
      ]
    },
    {
      "cell_type": "markdown",
      "source": [
        "- ? *color*"
      ],
      "metadata": {
        "id": "iDp1AFdxA-rr"
      }
    },
    {
      "cell_type": "markdown",
      "source": [
        "- data augmentation -- ususally in Image Process, not needed this time"
      ],
      "metadata": {
        "id": "LzTWBM7mxVVI"
      }
    },
    {
      "cell_type": "markdown",
      "source": [
        "## Split Data"
      ],
      "metadata": {
        "id": "80MMXAktLr7r"
      }
    },
    {
      "cell_type": "code",
      "source": [
        "from sklearn.model_selection import train_test_split\n",
        "\n",
        "train, test = train_test_split(survey_df, test_size=0.2, random_state=42)\n",
        "train, val = train_test_split(train, test_size=0.2, random_state=42)\n",
        "print(f\"Training set has {len(train)} samples\")\n",
        "print(f\"Validation set has {len(val)} samples\")\n",
        "print(f\"Test set has {len(test)} samples\")"
      ],
      "metadata": {
        "id": "6lbSB2S5J6wA",
        "colab": {
          "base_uri": "https://localhost:8080/"
        },
        "outputId": "13de2ae2-20da-4d72-9daf-8a6081a3256d"
      },
      "execution_count": 45,
      "outputs": [
        {
          "output_type": "stream",
          "name": "stdout",
          "text": [
            "Training set has 80 samples\n",
            "Validation set has 20 samples\n",
            "Test set has 26 samples\n"
          ]
        }
      ]
    },
    {
      "cell_type": "code",
      "source": [
        "X_train = train.drop(columns=['Y'])\n",
        "y_train = train['Y']\n",
        "\n",
        "X_val = val.drop(columns=['Y'])\n",
        "y_val = val['Y']\n",
        "\n",
        "X_test = test.drop(columns=['Y'])\n",
        "y_test = test['Y']"
      ],
      "metadata": {
        "id": "NrYJtjXQLxco"
      },
      "execution_count": 46,
      "outputs": []
    },
    {
      "cell_type": "markdown",
      "source": [
        "## Column Inspection"
      ],
      "metadata": {
        "id": "ns9_0lbMgpaG"
      }
    },
    {
      "cell_type": "markdown",
      "source": [
        "- ?? On all the data or only on the training set?"
      ],
      "metadata": {
        "id": "TidzcmDwknlF"
      }
    },
    {
      "cell_type": "code",
      "source": [
        "import matplotlib.pyplot as plt\n",
        "\n",
        "def show_avg_Y_and_observation(X,Y,X_value=[1, 2, 3, 4, 5], show_plot=True, use_X_frequency=True):\n",
        "  \"\"\"\n",
        "  For each possible value of X:\n",
        "    count its appearances, stored in X_num\n",
        "    compute its corresponding mean Y, stored in Y_avg\n",
        "  X, Y are dataframe columns\n",
        "  \"\"\"\n",
        "  # print(X.value_counts())\n",
        "  X_num = []\n",
        "  X_freq = []\n",
        "  Y_avg = []\n",
        "\n",
        "  for x in X_value:\n",
        "    num = (X == x).sum()\n",
        "    X_num.append(num)\n",
        "    freq = num / len(X)\n",
        "    X_freq.append(freq)\n",
        "    avg = Y[X==x].mean()\n",
        "    Y_avg.append(avg)\n",
        "    # if num == 0:\n",
        "    #   Y_avg.append(0.0)\n",
        "    # else:\n",
        "    #   avg = Y[X==x].mean()\n",
        "    #   Y_avg.append(avg)\n",
        "\n",
        "  # print(X_num)\n",
        "  # print(Y_avg)\n",
        "\n",
        "  if show_plot:\n",
        "    fig, ax1 = plt.subplots()\n",
        "\n",
        "    # ax1.set_title('column inspection', fontsize=16)\n",
        "\n",
        "    X_data = X_num\n",
        "    if use_X_frequency:\n",
        "      X_data = X_freq\n",
        "      ax1.set_ylim(-0.05, 1.05)\n",
        "    ax1.set_xlabel('X Value')\n",
        "    color1='blue'\n",
        "    ax1.set_ylabel('X Occurrences', color=color1)\n",
        "    ax1.bar(X_value, X_data, color=color1)\n",
        "    ax1.tick_params(axis='y', color=color1)\n",
        "\n",
        "    ax2 = ax1.twinx()  # share the x-axis, new y-axis\n",
        "    color2 = 'red'\n",
        "    ax2.set_ylabel('Average Y', color=color2)\n",
        "    ax2.plot(X_value, Y_avg, color=color2, marker=\"x\")\n",
        "    ax2.tick_params(axis='y', labelcolor=color2)\n",
        "    ax2.set_ylim(-0.05, 1.05)\n",
        "\n",
        "    plt.show()\n",
        "\n",
        "  return {\"Y_avg\": Y_avg, \"X_num\": X_num, \"X_freq\": X_freq}\n",
        "\n"
      ],
      "metadata": {
        "id": "90Tv9nBPgqNG"
      },
      "execution_count": 52,
      "outputs": []
    },
    {
      "cell_type": "markdown",
      "source": [
        "### X1"
      ],
      "metadata": {
        "id": "8j2PAn93bLPw"
      }
    },
    {
      "cell_type": "code",
      "source": [
        "show_avg_Y_and_observation(train['X1'], train['Y'])"
      ],
      "metadata": {
        "colab": {
          "base_uri": "https://localhost:8080/",
          "height": 571
        },
        "id": "figPWfgYah61",
        "outputId": "bffd5f42-594b-474e-ceb6-8f0aaa9376a4"
      },
      "execution_count": 53,
      "outputs": [
        {
          "output_type": "display_data",
          "data": {
            "text/plain": [
              "<Figure size 640x480 with 2 Axes>"
            ],
            "image/png": "[encoded data removed]"
          },
          "metadata": {}
        },
        {
          "output_type": "execute_result",
          "data": {
            "text/plain": [
              "{'Y_avg': [0.0,\n",
              "  nan,\n",
              "  0.3333333333333333,\n",
              "  0.4642857142857143,\n",
              "  0.717948717948718],\n",
              " 'X_num': [1, 0, 12, 28, 39],\n",
              " 'X_freq': [0.0125, 0.0, 0.15, 0.35, 0.4875]}"
            ]
          },
          "metadata": {},
          "execution_count": 53
        }
      ]
    },
    {
      "cell_type": "markdown",
      "source": [
        "### X2"
      ],
      "metadata": {
        "id": "UP2u0X4enFoT"
      }
    },
    {
      "cell_type": "code",
      "source": [
        "show_avg_Y_and_observation(train['X2'], train['Y'])"
      ],
      "metadata": {
        "colab": {
          "base_uri": "https://localhost:8080/",
          "height": 571
        },
        "id": "-CVqxVjdnE31",
        "outputId": "995c72f9-2316-4930-a741-c1952da6a7e0"
      },
      "execution_count": 54,
      "outputs": [
        {
          "output_type": "display_data",
          "data": {
            "text/plain": [
              "<Figure size 640x480 with 2 Axes>"
            ],
            "image/png": "[encoded data removed]"
          },
          "metadata": {}
        },
        {
          "output_type": "execute_result",
          "data": {
            "text/plain": [
              "{'Y_avg': [0.5714285714285714,\n",
              "  0.7142857142857143,\n",
              "  0.4838709677419355,\n",
              "  0.375,\n",
              "  0.6666666666666666],\n",
              " 'X_num': [14, 21, 31, 8, 6],\n",
              " 'X_freq': [0.175, 0.2625, 0.3875, 0.1, 0.075]}"
            ]
          },
          "metadata": {},
          "execution_count": 54
        }
      ]
    },
    {
      "cell_type": "markdown",
      "source": [
        "### X3"
      ],
      "metadata": {
        "id": "UrJ1fdh4p_nY"
      }
    },
    {
      "cell_type": "code",
      "source": [
        "show_avg_Y_and_observation(train['X3'], train['Y'])"
      ],
      "metadata": {
        "colab": {
          "base_uri": "https://localhost:8080/",
          "height": 571
        },
        "id": "h87xFZH8p-Gy",
        "outputId": "c3d68b7d-87ae-4470-d3bf-38b70b88a31d"
      },
      "execution_count": 55,
      "outputs": [
        {
          "output_type": "display_data",
          "data": {
            "text/plain": [
              "<Figure size 640x480 with 2 Axes>"
            ],
            "image/png": "[encoded data removed]"
          },
          "metadata": {}
        },
        {
          "output_type": "execute_result",
          "data": {
            "text/plain": [
              "{'Y_avg': [0.5,\n",
              "  0.375,\n",
              "  0.5882352941176471,\n",
              "  0.6190476190476191,\n",
              "  0.5384615384615384],\n",
              " 'X_num': [4, 8, 34, 21, 13],\n",
              " 'X_freq': [0.05, 0.1, 0.425, 0.2625, 0.1625]}"
            ]
          },
          "metadata": {},
          "execution_count": 55
        }
      ]
    },
    {
      "cell_type": "markdown",
      "source": [
        "### X4"
      ],
      "metadata": {
        "id": "mfNzadFw6y7q"
      }
    },
    {
      "cell_type": "code",
      "source": [
        "show_avg_Y_and_observation(train['X4'], train['Y'])"
      ],
      "metadata": {
        "colab": {
          "base_uri": "https://localhost:8080/",
          "height": 501
        },
        "id": "GohI4wA06ySk",
        "outputId": "354c4ac6-d93f-49a9-b8e5-3819cfd88df8"
      },
      "execution_count": 56,
      "outputs": [
        {
          "output_type": "display_data",
          "data": {
            "text/plain": [
              "<Figure size 640x480 with 2 Axes>"
            ],
            "image/png": "[encoded data removed]"
          },
          "metadata": {}
        },
        {
          "output_type": "execute_result",
          "data": {
            "text/plain": [
              "{'Y_avg': [1.0, 0.0, 0.6086956521739131, 0.5675675675675675, 0.5],\n",
              " 'X_num': [2, 2, 23, 37, 16],\n",
              " 'X_freq': [0.025, 0.025, 0.2875, 0.4625, 0.2]}"
            ]
          },
          "metadata": {},
          "execution_count": 56
        }
      ]
    },
    {
      "cell_type": "markdown",
      "source": [
        "### X5"
      ],
      "metadata": {
        "id": "QizzYJtBDKb5"
      }
    },
    {
      "cell_type": "code",
      "source": [
        "show_avg_Y_and_observation(train['X5'], train['Y'])"
      ],
      "metadata": {
        "colab": {
          "base_uri": "https://localhost:8080/",
          "height": 571
        },
        "id": "yYLJ3UTkDTmQ",
        "outputId": "c182c54c-535b-404c-b356-9c606c71ce86"
      },
      "execution_count": 57,
      "outputs": [
        {
          "output_type": "display_data",
          "data": {
            "text/plain": [
              "<Figure size 640x480 with 2 Axes>"
            ],
            "image/png": "[encoded data removed]"
          },
          "metadata": {}
        },
        {
          "output_type": "execute_result",
          "data": {
            "text/plain": [
              "{'Y_avg': [0.2,\n",
              "  0.5555555555555556,\n",
              "  0.5,\n",
              "  0.6060606060606061,\n",
              "  0.6190476190476191],\n",
              " 'X_num': [5, 9, 12, 33, 21],\n",
              " 'X_freq': [0.0625, 0.1125, 0.15, 0.4125, 0.2625]}"
            ]
          },
          "metadata": {},
          "execution_count": 57
        }
      ]
    },
    {
      "cell_type": "markdown",
      "source": [
        "## ~Standardize Data~\n",
        "\n",
        "Not needed here, as X1~X5 are well-structured in this case."
      ],
      "metadata": {
        "id": "u4Vkz2W2Nj3r"
      }
    },
    {
      "cell_type": "code",
      "source": [
        "# from sklearn.preprocessing import StandardScaler\n",
        "\n",
        "# scaler = StandardScaler().fit(X_train_un)"
      ],
      "metadata": {
        "id": "dnznLoQ8NuDc"
      },
      "execution_count": 48,
      "outputs": []
    },
    {
      "cell_type": "code",
      "source": [
        "# X_train = scaler.transform(X_train_un)  ## zero mean, unit variance\n",
        "# print(X_train.mean(axis=0))\n",
        "# print(X_train.std(axis=0))"
      ],
      "metadata": {
        "id": "ami2fQNPQ0Sg"
      },
      "execution_count": 49,
      "outputs": []
    },
    {
      "cell_type": "code",
      "source": [
        "# X_val = scaler.transform(X_val_un)\n",
        "# X_test = scaler.transform(X_test_un)\n",
        "\n",
        "# print(X_val.mean(axis=0))\n",
        "# print(X_val.std(axis=0))\n",
        "# print(X_test.mean(axis=0))\n",
        "# print(X_test.std(axis=0))"
      ],
      "metadata": {
        "id": "1939WS1tSIMA"
      },
      "execution_count": 50,
      "outputs": []
    },
    {
      "cell_type": "markdown",
      "source": [
        "Not close to 0 and 1 --> The performance of `StandardScaler()` is **NOT** good.    \n",
        "Maybe it's casued by the small data size, i.e. the distribution of training data cannot well represent the distribution of all the data."
      ],
      "metadata": {
        "id": "drb3II_5TETb"
      }
    },
    {
      "cell_type": "code",
      "source": [
        "## no need to change Y\n",
        "# y_train, y_val, y_test = y_train_un, y_val_un, y_test_un"
      ],
      "metadata": {
        "id": "xrcIaC27Tzry"
      },
      "execution_count": 51,
      "outputs": []
    },
    {
      "cell_type": "markdown",
      "source": [
        "# Logistic Regression"
      ],
      "metadata": {
        "id": "rGew10k4UTm7"
      }
    },
    {
      "cell_type": "code",
      "source": [
        "from sklearn.linear_model import LogisticRegression\n",
        "\n",
        "\n",
        "clf_LR = LogisticRegression(random_state=0).fit(X_train, y_train)\n",
        "print(f\"training accuracy: {clf_LR.score(X_train, y_train)}\")"
      ],
      "metadata": {
        "colab": {
          "base_uri": "https://localhost:8080/"
        },
        "id": "iP2g6c8HUTxf",
        "outputId": "599032c0-6aa4-4734-ab72-71dca3f14594"
      },
      "execution_count": null,
      "outputs": [
        {
          "output_type": "stream",
          "name": "stdout",
          "text": [
            "training accuracy: 0.6477272727272727\n"
          ]
        }
      ]
    },
    {
      "cell_type": "code",
      "source": [
        "print(f\"validation accuracy: {clf_LR.score(X_val, y_val)}\")"
      ],
      "metadata": {
        "colab": {
          "base_uri": "https://localhost:8080/"
        },
        "id": "UX2R2UnPXw1F",
        "outputId": "bde6758c-dab8-4c2e-b44a-9c477881f135"
      },
      "execution_count": null,
      "outputs": [
        {
          "output_type": "stream",
          "name": "stdout",
          "text": [
            "validation accuracy: 0.42105263157894735\n"
          ]
        }
      ]
    },
    {
      "cell_type": "markdown",
      "source": [
        "# Linear SVC\n",
        "\n",
        "Not sure about its math details ..."
      ],
      "metadata": {
        "id": "sQZsQsEqYY7V"
      }
    },
    {
      "cell_type": "code",
      "source": [
        "from sklearn.svm import LinearSVC\n",
        "\n",
        "clf_LSVC = LinearSVC(random_state=0, tol=1e-5).fit(X_train, y_train)\n",
        "print(f\"training accuracy: {clf_LSVC.score(X_train, y_train)}\")"
      ],
      "metadata": {
        "colab": {
          "base_uri": "https://localhost:8080/"
        },
        "id": "czWhkI4mYZFV",
        "outputId": "f51b45e8-ad1e-49a0-df11-d5cba71f3b44"
      },
      "execution_count": null,
      "outputs": [
        {
          "output_type": "stream",
          "name": "stdout",
          "text": [
            "training accuracy: 0.6477272727272727\n"
          ]
        }
      ]
    },
    {
      "cell_type": "code",
      "source": [
        "print(f\"validation accuracy: {clf_LSVC.score(X_val, y_val)}\")"
      ],
      "metadata": {
        "colab": {
          "base_uri": "https://localhost:8080/"
        },
        "id": "C5whPV6SdSdX",
        "outputId": "ad7fed70-71db-4f98-f28d-ec7be7db323d"
      },
      "execution_count": null,
      "outputs": [
        {
          "output_type": "stream",
          "name": "stdout",
          "text": [
            "validation accuracy: 0.42105263157894735\n"
          ]
        }
      ]
    },
    {
      "cell_type": "markdown",
      "source": [
        "# K-NN"
      ],
      "metadata": {
        "id": "qdfwYhIJd2KW"
      }
    },
    {
      "cell_type": "code",
      "source": [
        "from sklearn.neighbors import KNeighborsClassifier\n",
        "\n",
        "clf_KNN = KNeighborsClassifier(n_neighbors=3, leaf_size=4).fit(X_train, y_train)\n",
        "print(f\"training accuracy: {clf_KNN.score(X_train, y_train)}\")\n",
        "\n",
        "print(f\"validation accuracy: {clf_KNN.score(X_val, y_val)}\")"
      ],
      "metadata": {
        "colab": {
          "base_uri": "https://localhost:8080/"
        },
        "id": "TxIeVQAJdnyI",
        "outputId": "a632f006-3a81-45a0-db88-31770d34290c"
      },
      "execution_count": null,
      "outputs": [
        {
          "output_type": "stream",
          "name": "stdout",
          "text": [
            "training accuracy: 0.7954545454545454\n",
            "validation accuracy: 0.5789473684210527\n"
          ]
        }
      ]
    },
    {
      "cell_type": "markdown",
      "source": [
        "# Random Forest"
      ],
      "metadata": {
        "id": "U76O7LgTxxlQ"
      }
    },
    {
      "cell_type": "code",
      "source": [
        "from sklearn.ensemble import RandomForestClassifier\n",
        "\n",
        "clf_RF = RandomForestClassifier(random_state=0, max_depth=4).fit(X_train, y_train)\n",
        "print(f\"training accuracy: {clf_RF.score(X_train, y_train)}\")\n",
        "\n",
        "print(f\"validation accuracy: {clf_RF.score(X_val, y_val)}\")"
      ],
      "metadata": {
        "colab": {
          "base_uri": "https://localhost:8080/"
        },
        "id": "3_aW1vFExwkb",
        "outputId": "a282ef3f-be42-45b9-f6ea-a7c478cf73d0"
      },
      "execution_count": null,
      "outputs": [
        {
          "output_type": "stream",
          "name": "stdout",
          "text": [
            "training accuracy: 0.7840909090909091\n",
            "validation accuracy: 0.47368421052631576\n"
          ]
        }
      ]
    },
    {
      "cell_type": "code",
      "source": [
        "print(f\"test accuracy: {clf_RF.score(X_test, y_test)}\")"
      ],
      "metadata": {
        "id": "_ElbAAPR-PZP",
        "outputId": "ef5c99d9-3370-45c2-cbd1-669388ec6ba6",
        "colab": {
          "base_uri": "https://localhost:8080/"
        }
      },
      "execution_count": null,
      "outputs": [
        {
          "output_type": "stream",
          "name": "stdout",
          "text": [
            "test accuracy: 0.6842105263157895\n"
          ]
        }
      ]
    },
    {
      "cell_type": "markdown",
      "source": [
        "# ??\n",
        "\n",
        "- hyper param tuning\n",
        "- more data"
      ],
      "metadata": {
        "id": "3qByOVyeyz8O"
      }
    }
  ]
}