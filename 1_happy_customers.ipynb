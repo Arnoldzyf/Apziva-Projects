{
  "nbformat": 4,
  "nbformat_minor": 0,
  "metadata": {
    "colab": {
      "provenance": [],
      "toc_visible": true,
      "include_colab_link": true
    },
    "kernelspec": {
      "name": "python3",
      "display_name": "Python 3"
    },
    "language_info": {
      "name": "python"
    }
  },
  "cells": [
    {
      "cell_type": "markdown",
      "metadata": {
        "id": "view-in-github",
        "colab_type": "text"
      },
      "source": [
        "<a href=\"https://colab.research.google.com/github/Arnoldzyf/Apziva-Projects/blob/main/1_happy_customers.ipynb\" target=\"_parent\"><img src=\"https://colab.research.google.com/assets/colab-badge.svg\" alt=\"Open In Colab\"/></a>"
      ]
    },
    {
      "cell_type": "code",
      "execution_count": 2,
      "metadata": {
        "colab": {
          "base_uri": "https://localhost:8080/"
        },
        "id": "v898r-D7wf_v",
        "outputId": "8371f910-3e7c-4e5e-a3a2-ab5930ba4e6e"
      },
      "outputs": [
        {
          "output_type": "stream",
          "name": "stdout",
          "text": [
            "Mounted at /content/drive\n"
          ]
        }
      ],
      "source": [
        "from google.colab import drive\n",
        "drive.mount('/content/drive')"
      ]
    },
    {
      "cell_type": "code",
      "source": [
        "# !pip install pandas\n",
        "import pandas as pd"
      ],
      "metadata": {
        "id": "-xGw566YyOcm"
      },
      "execution_count": 3,
      "outputs": []
    },
    {
      "cell_type": "markdown",
      "source": [
        "# Task"
      ],
      "metadata": {
        "id": "bx_tKjN62u87"
      }
    },
    {
      "cell_type": "markdown",
      "source": [
        "**Task Description**:\n",
        "1. Predict if a customer is happy or not based on the answers they give to questions asked\n",
        "  - Reach 73% accuracy score or above\n",
        "\n",
        "2. what is the minimal set of attributes/features that would preserve the most information about the problem while increasing predictability of the data we have\n"
      ],
      "metadata": {
        "id": "ZzPup1Q_2w43"
      }
    },
    {
      "cell_type": "markdown",
      "source": [
        "**Task Analysis**:\n",
        "1. Classification Problem ([sklearn](https://scikit-learn.org/stable/))\n",
        "  - classification model\n",
        "  - regression model + threshold\n",
        "  - neural net\n",
        "2. Feature Importance\n",
        "  - test best model on validation set   \n",
        "  - `feature_importances_` in sklearn `RandomForestClassifier`\n",
        "  - ?? Other ways\n",
        "    - delete iteratively (permutation)\n",
        "    - dimension reduction (PCA, ...)\n",
        "    - feature selection (coefficient, ...)\n",
        "3. only need a very **small** model"
      ],
      "metadata": {
        "id": "ad0rB-0WBoB4"
      }
    },
    {
      "cell_type": "markdown",
      "source": [
        "**Solution Strategy:**\n",
        "- Column Inspection: delete features that Y_avg stays level when X changes\n",
        "- Use XGBoost\n",
        "-"
      ],
      "metadata": {
        "id": "Dn8sMPRKL2kE"
      }
    },
    {
      "cell_type": "markdown",
      "source": [
        "# Data Preprocessing"
      ],
      "metadata": {
        "id": "ACEjbTlfzYpS"
      }
    },
    {
      "cell_type": "markdown",
      "source": [
        "Y = target attribute (Y) with values indicating 0 (unhappy) and 1 (happy) customers  \n",
        "X1 = my order was delivered on time  \n",
        "X2 = contents of my order was as I expected  \n",
        "X3 = I ordered everything I wanted to order  \n",
        "X4 = I paid a good price for my order  \n",
        "X5 = I am satisfied with my courier  \n",
        "X6 = the app makes ordering easy for me  \n",
        "\n",
        "Attributes X1 to X6 indicate the responses for each question and have values from 1 to 5 where the smaller number indicates less and the higher number indicates more towards the answer."
      ],
      "metadata": {
        "id": "yccngBmDzhrw"
      }
    },
    {
      "cell_type": "markdown",
      "source": [
        "## Load the Data"
      ],
      "metadata": {
        "id": "juQaV_Lz8q3O"
      }
    },
    {
      "cell_type": "code",
      "source": [
        "path = \"/content/drive/MyDrive/Apziva/Project 1 - Happy Customers/Resources/ACME-HappinessSurvey2020.csv\"\n",
        "survey_df = pd.read_csv(f\"{path}\")\n",
        "survey_df"
      ],
      "metadata": {
        "colab": {
          "base_uri": "https://localhost:8080/",
          "height": 423
        },
        "id": "PnBQY1-xymYy",
        "outputId": "6e48d5ba-959c-4604-9894-2be904b16fab"
      },
      "execution_count": 4,
      "outputs": [
        {
          "output_type": "execute_result",
          "data": {
            "text/plain": [
              "     Y  X1  X2  X3  X4  X5  X6\n",
              "0    0   3   3   3   4   2   4\n",
              "1    0   3   2   3   5   4   3\n",
              "2    1   5   3   3   3   3   5\n",
              "3    0   5   4   3   3   3   5\n",
              "4    0   5   4   3   3   3   5\n",
              "..  ..  ..  ..  ..  ..  ..  ..\n",
              "121  1   5   2   3   4   4   3\n",
              "122  1   5   2   3   4   2   5\n",
              "123  1   5   3   3   4   4   5\n",
              "124  0   4   3   3   4   4   5\n",
              "125  0   5   3   2   5   5   5\n",
              "\n",
              "[126 rows x 7 columns]"
            ],
            "text/html": [
              "\n",
              "  <div id=\"df-2226aeee-e7b9-42b1-8067-a2eb4bf0407d\" class=\"colab-df-container\">\n",
              "    <div>\n",
              "<style scoped>\n",
              "    .dataframe tbody tr th:only-of-type {\n",
              "        vertical-align: middle;\n",
              "    }\n",
              "\n",
              "    .dataframe tbody tr th {\n",
              "        vertical-align: top;\n",
              "    }\n",
              "\n",
              "    .dataframe thead th {\n",
              "        text-align: right;\n",
              "    }\n",
              "</style>\n",
              "<table border=\"1\" class=\"dataframe\">\n",
              "  <thead>\n",
              "    <tr style=\"text-align: right;\">\n",
              "      <th></th>\n",
              "      <th>Y</th>\n",
              "      <th>X1</th>\n",
              "      <th>X2</th>\n",
              "      <th>X3</th>\n",
              "      <th>X4</th>\n",
              "      <th>X5</th>\n",
              "      <th>X6</th>\n",
              "    </tr>\n",
              "  </thead>\n",
              "  <tbody>\n",
              "    <tr>\n",
              "      <th>0</th>\n",
              "      <td>0</td>\n",
              "      <td>3</td>\n",
              "      <td>3</td>\n",
              "      <td>3</td>\n",
              "      <td>4</td>\n",
              "      <td>2</td>\n",
              "      <td>4</td>\n",
              "    </tr>\n",
              "    <tr>\n",
              "      <th>1</th>\n",
              "      <td>0</td>\n",
              "      <td>3</td>\n",
              "      <td>2</td>\n",
              "      <td>3</td>\n",
              "      <td>5</td>\n",
              "      <td>4</td>\n",
              "      <td>3</td>\n",
              "    </tr>\n",
              "    <tr>\n",
              "      <th>2</th>\n",
              "      <td>1</td>\n",
              "      <td>5</td>\n",
              "      <td>3</td>\n",
              "      <td>3</td>\n",
              "      <td>3</td>\n",
              "      <td>3</td>\n",
              "      <td>5</td>\n",
              "    </tr>\n",
              "    <tr>\n",
              "      <th>3</th>\n",
              "      <td>0</td>\n",
              "      <td>5</td>\n",
              "      <td>4</td>\n",
              "      <td>3</td>\n",
              "      <td>3</td>\n",
              "      <td>3</td>\n",
              "      <td>5</td>\n",
              "    </tr>\n",
              "    <tr>\n",
              "      <th>4</th>\n",
              "      <td>0</td>\n",
              "      <td>5</td>\n",
              "      <td>4</td>\n",
              "      <td>3</td>\n",
              "      <td>3</td>\n",
              "      <td>3</td>\n",
              "      <td>5</td>\n",
              "    </tr>\n",
              "    <tr>\n",
              "      <th>...</th>\n",
              "      <td>...</td>\n",
              "      <td>...</td>\n",
              "      <td>...</td>\n",
              "      <td>...</td>\n",
              "      <td>...</td>\n",
              "      <td>...</td>\n",
              "      <td>...</td>\n",
              "    </tr>\n",
              "    <tr>\n",
              "      <th>121</th>\n",
              "      <td>1</td>\n",
              "      <td>5</td>\n",
              "      <td>2</td>\n",
              "      <td>3</td>\n",
              "      <td>4</td>\n",
              "      <td>4</td>\n",
              "      <td>3</td>\n",
              "    </tr>\n",
              "    <tr>\n",
              "      <th>122</th>\n",
              "      <td>1</td>\n",
              "      <td>5</td>\n",
              "      <td>2</td>\n",
              "      <td>3</td>\n",
              "      <td>4</td>\n",
              "      <td>2</td>\n",
              "      <td>5</td>\n",
              "    </tr>\n",
              "    <tr>\n",
              "      <th>123</th>\n",
              "      <td>1</td>\n",
              "      <td>5</td>\n",
              "      <td>3</td>\n",
              "      <td>3</td>\n",
              "      <td>4</td>\n",
              "      <td>4</td>\n",
              "      <td>5</td>\n",
              "    </tr>\n",
              "    <tr>\n",
              "      <th>124</th>\n",
              "      <td>0</td>\n",
              "      <td>4</td>\n",
              "      <td>3</td>\n",
              "      <td>3</td>\n",
              "      <td>4</td>\n",
              "      <td>4</td>\n",
              "      <td>5</td>\n",
              "    </tr>\n",
              "    <tr>\n",
              "      <th>125</th>\n",
              "      <td>0</td>\n",
              "      <td>5</td>\n",
              "      <td>3</td>\n",
              "      <td>2</td>\n",
              "      <td>5</td>\n",
              "      <td>5</td>\n",
              "      <td>5</td>\n",
              "    </tr>\n",
              "  </tbody>\n",
              "</table>\n",
              "<p>126 rows × 7 columns</p>\n",
              "</div>\n",
              "    <div class=\"colab-df-buttons\">\n",
              "\n",
              "  <div class=\"colab-df-container\">\n",
              "    <button class=\"colab-df-convert\" onclick=\"convertToInteractive('df-2226aeee-e7b9-42b1-8067-a2eb4bf0407d')\"\n",
              "            title=\"Convert this dataframe to an interactive table.\"\n",
              "            style=\"display:none;\">\n",
              "\n",
              "  <svg xmlns=\"http://www.w3.org/2000/svg\" height=\"24px\" viewBox=\"0 -960 960 960\">\n",
              "    <path d=\"M120-120v-720h720v720H120Zm60-500h600v-160H180v160Zm220 220h160v-160H400v160Zm0 220h160v-160H400v160ZM180-400h160v-160H180v160Zm440 0h160v-160H620v160ZM180-180h160v-160H180v160Zm440 0h160v-160H620v160Z\"/>\n",
              "  </svg>\n",
              "    </button>\n",
              "\n",
              "  <style>\n",
              "    .colab-df-container {\n",
              "      display:flex;\n",
              "      gap: 12px;\n",
              "    }\n",
              "\n",
              "    .colab-df-convert {\n",
              "      background-color: #E8F0FE;\n",
              "      border: none;\n",
              "      border-radius: 50%;\n",
              "      cursor: pointer;\n",
              "      display: none;\n",
              "      fill: #1967D2;\n",
              "      height: 32px;\n",
              "      padding: 0 0 0 0;\n",
              "      width: 32px;\n",
              "    }\n",
              "\n",
              "    .colab-df-convert:hover {\n",
              "      background-color: #E2EBFA;\n",
              "      box-shadow: 0px 1px 2px rgba(60, 64, 67, 0.3), 0px 1px 3px 1px rgba(60, 64, 67, 0.15);\n",
              "      fill: #174EA6;\n",
              "    }\n",
              "\n",
              "    .colab-df-buttons div {\n",
              "      margin-bottom: 4px;\n",
              "    }\n",
              "\n",
              "    [theme=dark] .colab-df-convert {\n",
              "      background-color: #3B4455;\n",
              "      fill: #D2E3FC;\n",
              "    }\n",
              "\n",
              "    [theme=dark] .colab-df-convert:hover {\n",
              "      background-color: #434B5C;\n",
              "      box-shadow: 0px 1px 3px 1px rgba(0, 0, 0, 0.15);\n",
              "      filter: drop-shadow(0px 1px 2px rgba(0, 0, 0, 0.3));\n",
              "      fill: #FFFFFF;\n",
              "    }\n",
              "  </style>\n",
              "\n",
              "    <script>\n",
              "      const buttonEl =\n",
              "        document.querySelector('#df-2226aeee-e7b9-42b1-8067-a2eb4bf0407d button.colab-df-convert');\n",
              "      buttonEl.style.display =\n",
              "        google.colab.kernel.accessAllowed ? 'block' : 'none';\n",
              "\n",
              "      async function convertToInteractive(key) {\n",
              "        const element = document.querySelector('#df-2226aeee-e7b9-42b1-8067-a2eb4bf0407d');\n",
              "        const dataTable =\n",
              "          await google.colab.kernel.invokeFunction('convertToInteractive',\n",
              "                                                    [key], {});\n",
              "        if (!dataTable) return;\n",
              "\n",
              "        const docLinkHtml = 'Like what you see? Visit the ' +\n",
              "          '<a target=\"_blank\" href=https://colab.research.google.com/notebooks/data_table.ipynb>data table notebook</a>'\n",
              "          + ' to learn more about interactive tables.';\n",
              "        element.innerHTML = '';\n",
              "        dataTable['output_type'] = 'display_data';\n",
              "        await google.colab.output.renderOutput(dataTable, element);\n",
              "        const docLink = document.createElement('div');\n",
              "        docLink.innerHTML = docLinkHtml;\n",
              "        element.appendChild(docLink);\n",
              "      }\n",
              "    </script>\n",
              "  </div>\n",
              "\n",
              "\n",
              "<div id=\"df-d7cc7202-9c89-401b-99ca-920e5784b53d\">\n",
              "  <button class=\"colab-df-quickchart\" onclick=\"quickchart('df-d7cc7202-9c89-401b-99ca-920e5784b53d')\"\n",
              "            title=\"Suggest charts\"\n",
              "            style=\"display:none;\">\n",
              "\n",
              "<svg xmlns=\"http://www.w3.org/2000/svg\" height=\"24px\"viewBox=\"0 0 24 24\"\n",
              "     width=\"24px\">\n",
              "    <g>\n",
              "        <path d=\"M19 3H5c-1.1 0-2 .9-2 2v14c0 1.1.9 2 2 2h14c1.1 0 2-.9 2-2V5c0-1.1-.9-2-2-2zM9 17H7v-7h2v7zm4 0h-2V7h2v10zm4 0h-2v-4h2v4z\"/>\n",
              "    </g>\n",
              "</svg>\n",
              "  </button>\n",
              "\n",
              "<style>\n",
              "  .colab-df-quickchart {\n",
              "      --bg-color: #E8F0FE;\n",
              "      --fill-color: #1967D2;\n",
              "      --hover-bg-color: #E2EBFA;\n",
              "      --hover-fill-color: #174EA6;\n",
              "      --disabled-fill-color: #AAA;\n",
              "      --disabled-bg-color: #DDD;\n",
              "  }\n",
              "\n",
              "  [theme=dark] .colab-df-quickchart {\n",
              "      --bg-color: #3B4455;\n",
              "      --fill-color: #D2E3FC;\n",
              "      --hover-bg-color: #434B5C;\n",
              "      --hover-fill-color: #FFFFFF;\n",
              "      --disabled-bg-color: #3B4455;\n",
              "      --disabled-fill-color: #666;\n",
              "  }\n",
              "\n",
              "  .colab-df-quickchart {\n",
              "    background-color: var(--bg-color);\n",
              "    border: none;\n",
              "    border-radius: 50%;\n",
              "    cursor: pointer;\n",
              "    display: none;\n",
              "    fill: var(--fill-color);\n",
              "    height: 32px;\n",
              "    padding: 0;\n",
              "    width: 32px;\n",
              "  }\n",
              "\n",
              "  .colab-df-quickchart:hover {\n",
              "    background-color: var(--hover-bg-color);\n",
              "    box-shadow: 0 1px 2px rgba(60, 64, 67, 0.3), 0 1px 3px 1px rgba(60, 64, 67, 0.15);\n",
              "    fill: var(--button-hover-fill-color);\n",
              "  }\n",
              "\n",
              "  .colab-df-quickchart-complete:disabled,\n",
              "  .colab-df-quickchart-complete:disabled:hover {\n",
              "    background-color: var(--disabled-bg-color);\n",
              "    fill: var(--disabled-fill-color);\n",
              "    box-shadow: none;\n",
              "  }\n",
              "\n",
              "  .colab-df-spinner {\n",
              "    border: 2px solid var(--fill-color);\n",
              "    border-color: transparent;\n",
              "    border-bottom-color: var(--fill-color);\n",
              "    animation:\n",
              "      spin 1s steps(1) infinite;\n",
              "  }\n",
              "\n",
              "  @keyframes spin {\n",
              "    0% {\n",
              "      border-color: transparent;\n",
              "      border-bottom-color: var(--fill-color);\n",
              "      border-left-color: var(--fill-color);\n",
              "    }\n",
              "    20% {\n",
              "      border-color: transparent;\n",
              "      border-left-color: var(--fill-color);\n",
              "      border-top-color: var(--fill-color);\n",
              "    }\n",
              "    30% {\n",
              "      border-color: transparent;\n",
              "      border-left-color: var(--fill-color);\n",
              "      border-top-color: var(--fill-color);\n",
              "      border-right-color: var(--fill-color);\n",
              "    }\n",
              "    40% {\n",
              "      border-color: transparent;\n",
              "      border-right-color: var(--fill-color);\n",
              "      border-top-color: var(--fill-color);\n",
              "    }\n",
              "    60% {\n",
              "      border-color: transparent;\n",
              "      border-right-color: var(--fill-color);\n",
              "    }\n",
              "    80% {\n",
              "      border-color: transparent;\n",
              "      border-right-color: var(--fill-color);\n",
              "      border-bottom-color: var(--fill-color);\n",
              "    }\n",
              "    90% {\n",
              "      border-color: transparent;\n",
              "      border-bottom-color: var(--fill-color);\n",
              "    }\n",
              "  }\n",
              "</style>\n",
              "\n",
              "  <script>\n",
              "    async function quickchart(key) {\n",
              "      const quickchartButtonEl =\n",
              "        document.querySelector('#' + key + ' button');\n",
              "      quickchartButtonEl.disabled = true;  // To prevent multiple clicks.\n",
              "      quickchartButtonEl.classList.add('colab-df-spinner');\n",
              "      try {\n",
              "        const charts = await google.colab.kernel.invokeFunction(\n",
              "            'suggestCharts', [key], {});\n",
              "      } catch (error) {\n",
              "        console.error('Error during call to suggestCharts:', error);\n",
              "      }\n",
              "      quickchartButtonEl.classList.remove('colab-df-spinner');\n",
              "      quickchartButtonEl.classList.add('colab-df-quickchart-complete');\n",
              "    }\n",
              "    (() => {\n",
              "      let quickchartButtonEl =\n",
              "        document.querySelector('#df-d7cc7202-9c89-401b-99ca-920e5784b53d button');\n",
              "      quickchartButtonEl.style.display =\n",
              "        google.colab.kernel.accessAllowed ? 'block' : 'none';\n",
              "    })();\n",
              "  </script>\n",
              "</div>\n",
              "    </div>\n",
              "  </div>\n"
            ],
            "application/vnd.google.colaboratory.intrinsic+json": {
              "type": "dataframe",
              "variable_name": "survey_df",
              "summary": "{\n  \"name\": \"survey_df\",\n  \"rows\": 126,\n  \"fields\": [\n    {\n      \"column\": \"Y\",\n      \"properties\": {\n        \"dtype\": \"number\",\n        \"std\": 0,\n        \"min\": 0,\n        \"max\": 1,\n        \"num_unique_values\": 2,\n        \"samples\": [\n          1,\n          0\n        ],\n        \"semantic_type\": \"\",\n        \"description\": \"\"\n      }\n    },\n    {\n      \"column\": \"X1\",\n      \"properties\": {\n        \"dtype\": \"number\",\n        \"std\": 0,\n        \"min\": 1,\n        \"max\": 5,\n        \"num_unique_values\": 4,\n        \"samples\": [\n          5,\n          1\n        ],\n        \"semantic_type\": \"\",\n        \"description\": \"\"\n      }\n    },\n    {\n      \"column\": \"X2\",\n      \"properties\": {\n        \"dtype\": \"number\",\n        \"std\": 1,\n        \"min\": 1,\n        \"max\": 5,\n        \"num_unique_values\": 5,\n        \"samples\": [\n          2,\n          1\n        ],\n        \"semantic_type\": \"\",\n        \"description\": \"\"\n      }\n    },\n    {\n      \"column\": \"X3\",\n      \"properties\": {\n        \"dtype\": \"number\",\n        \"std\": 1,\n        \"min\": 1,\n        \"max\": 5,\n        \"num_unique_values\": 5,\n        \"samples\": [\n          2,\n          1\n        ],\n        \"semantic_type\": \"\",\n        \"description\": \"\"\n      }\n    },\n    {\n      \"column\": \"X4\",\n      \"properties\": {\n        \"dtype\": \"number\",\n        \"std\": 0,\n        \"min\": 1,\n        \"max\": 5,\n        \"num_unique_values\": 5,\n        \"samples\": [\n          5,\n          1\n        ],\n        \"semantic_type\": \"\",\n        \"description\": \"\"\n      }\n    },\n    {\n      \"column\": \"X5\",\n      \"properties\": {\n        \"dtype\": \"number\",\n        \"std\": 1,\n        \"min\": 1,\n        \"max\": 5,\n        \"num_unique_values\": 5,\n        \"samples\": [\n          4,\n          1\n        ],\n        \"semantic_type\": \"\",\n        \"description\": \"\"\n      }\n    },\n    {\n      \"column\": \"X6\",\n      \"properties\": {\n        \"dtype\": \"number\",\n        \"std\": 0,\n        \"min\": 1,\n        \"max\": 5,\n        \"num_unique_values\": 5,\n        \"samples\": [\n          3,\n          1\n        ],\n        \"semantic_type\": \"\",\n        \"description\": \"\"\n      }\n    }\n  ]\n}"
            }
          },
          "metadata": {},
          "execution_count": 4
        }
      ]
    },
    {
      "cell_type": "markdown",
      "source": [
        "Very small portion of data, be careful with overfitting"
      ],
      "metadata": {
        "id": "XmO8ir-ZINlb"
      }
    },
    {
      "cell_type": "markdown",
      "source": [
        "## Check Whether its a Balanced Dataset"
      ],
      "metadata": {
        "id": "R61b3M-qdHpp"
      }
    },
    {
      "cell_type": "code",
      "source": [
        "survey_df[\"Y\"].value_counts(normalize=True)"
      ],
      "metadata": {
        "colab": {
          "base_uri": "https://localhost:8080/"
        },
        "id": "_LKRb_FVdTXw",
        "outputId": "fc54c44d-a94a-4a15-e9d9-8547df86bc0f"
      },
      "execution_count": 5,
      "outputs": [
        {
          "output_type": "execute_result",
          "data": {
            "text/plain": [
              "1    0.547619\n",
              "0    0.452381\n",
              "Name: Y, dtype: float64"
            ]
          },
          "metadata": {},
          "execution_count": 5
        }
      ]
    },
    {
      "cell_type": "markdown",
      "source": [
        "## Statistics"
      ],
      "metadata": {
        "id": "SRwFsxql2ZE0"
      }
    },
    {
      "cell_type": "code",
      "source": [
        "## Data Type and Missing Values\n",
        "survey_df.info()"
      ],
      "metadata": {
        "colab": {
          "base_uri": "https://localhost:8080/"
        },
        "id": "w2zA2d-uzs2q",
        "outputId": "a611ea1e-53b8-4fdd-dbdb-57893d568368"
      },
      "execution_count": 6,
      "outputs": [
        {
          "output_type": "stream",
          "name": "stdout",
          "text": [
            "<class 'pandas.core.frame.DataFrame'>\n",
            "RangeIndex: 126 entries, 0 to 125\n",
            "Data columns (total 7 columns):\n",
            " #   Column  Non-Null Count  Dtype\n",
            "---  ------  --------------  -----\n",
            " 0   Y       126 non-null    int64\n",
            " 1   X1      126 non-null    int64\n",
            " 2   X2      126 non-null    int64\n",
            " 3   X3      126 non-null    int64\n",
            " 4   X4      126 non-null    int64\n",
            " 5   X5      126 non-null    int64\n",
            " 6   X6      126 non-null    int64\n",
            "dtypes: int64(7)\n",
            "memory usage: 7.0 KB\n"
          ]
        }
      ]
    },
    {
      "cell_type": "markdown",
      "source": [
        "No missing values"
      ],
      "metadata": {
        "id": "HdoV0iRd2i44"
      }
    },
    {
      "cell_type": "code",
      "source": [
        "survey_df.describe()"
      ],
      "metadata": {
        "colab": {
          "base_uri": "https://localhost:8080/",
          "height": 300
        },
        "id": "QYh123vS1dk5",
        "outputId": "4dcc517f-9aaa-4b20-f294-dff4032db0f1"
      },
      "execution_count": 7,
      "outputs": [
        {
          "output_type": "execute_result",
          "data": {
            "text/plain": [
              "                Y          X1          X2          X3          X4          X5  \\\n",
              "count  126.000000  126.000000  126.000000  126.000000  126.000000  126.000000   \n",
              "mean     0.547619    4.333333    2.531746    3.309524    3.746032    3.650794   \n",
              "std      0.499714    0.800000    1.114892    1.023440    0.875776    1.147641   \n",
              "min      0.000000    1.000000    1.000000    1.000000    1.000000    1.000000   \n",
              "25%      0.000000    4.000000    2.000000    3.000000    3.000000    3.000000   \n",
              "50%      1.000000    5.000000    3.000000    3.000000    4.000000    4.000000   \n",
              "75%      1.000000    5.000000    3.000000    4.000000    4.000000    4.000000   \n",
              "max      1.000000    5.000000    5.000000    5.000000    5.000000    5.000000   \n",
              "\n",
              "               X6  \n",
              "count  126.000000  \n",
              "mean     4.253968  \n",
              "std      0.809311  \n",
              "min      1.000000  \n",
              "25%      4.000000  \n",
              "50%      4.000000  \n",
              "75%      5.000000  \n",
              "max      5.000000  "
            ],
            "text/html": [
              "\n",
              "  <div id=\"df-0684c8d0-c4be-4755-9349-6aedc2a92dea\" class=\"colab-df-container\">\n",
              "    <div>\n",
              "<style scoped>\n",
              "    .dataframe tbody tr th:only-of-type {\n",
              "        vertical-align: middle;\n",
              "    }\n",
              "\n",
              "    .dataframe tbody tr th {\n",
              "        vertical-align: top;\n",
              "    }\n",
              "\n",
              "    .dataframe thead th {\n",
              "        text-align: right;\n",
              "    }\n",
              "</style>\n",
              "<table border=\"1\" class=\"dataframe\">\n",
              "  <thead>\n",
              "    <tr style=\"text-align: right;\">\n",
              "      <th></th>\n",
              "      <th>Y</th>\n",
              "      <th>X1</th>\n",
              "      <th>X2</th>\n",
              "      <th>X3</th>\n",
              "      <th>X4</th>\n",
              "      <th>X5</th>\n",
              "      <th>X6</th>\n",
              "    </tr>\n",
              "  </thead>\n",
              "  <tbody>\n",
              "    <tr>\n",
              "      <th>count</th>\n",
              "      <td>126.000000</td>\n",
              "      <td>126.000000</td>\n",
              "      <td>126.000000</td>\n",
              "      <td>126.000000</td>\n",
              "      <td>126.000000</td>\n",
              "      <td>126.000000</td>\n",
              "      <td>126.000000</td>\n",
              "    </tr>\n",
              "    <tr>\n",
              "      <th>mean</th>\n",
              "      <td>0.547619</td>\n",
              "      <td>4.333333</td>\n",
              "      <td>2.531746</td>\n",
              "      <td>3.309524</td>\n",
              "      <td>3.746032</td>\n",
              "      <td>3.650794</td>\n",
              "      <td>4.253968</td>\n",
              "    </tr>\n",
              "    <tr>\n",
              "      <th>std</th>\n",
              "      <td>0.499714</td>\n",
              "      <td>0.800000</td>\n",
              "      <td>1.114892</td>\n",
              "      <td>1.023440</td>\n",
              "      <td>0.875776</td>\n",
              "      <td>1.147641</td>\n",
              "      <td>0.809311</td>\n",
              "    </tr>\n",
              "    <tr>\n",
              "      <th>min</th>\n",
              "      <td>0.000000</td>\n",
              "      <td>1.000000</td>\n",
              "      <td>1.000000</td>\n",
              "      <td>1.000000</td>\n",
              "      <td>1.000000</td>\n",
              "      <td>1.000000</td>\n",
              "      <td>1.000000</td>\n",
              "    </tr>\n",
              "    <tr>\n",
              "      <th>25%</th>\n",
              "      <td>0.000000</td>\n",
              "      <td>4.000000</td>\n",
              "      <td>2.000000</td>\n",
              "      <td>3.000000</td>\n",
              "      <td>3.000000</td>\n",
              "      <td>3.000000</td>\n",
              "      <td>4.000000</td>\n",
              "    </tr>\n",
              "    <tr>\n",
              "      <th>50%</th>\n",
              "      <td>1.000000</td>\n",
              "      <td>5.000000</td>\n",
              "      <td>3.000000</td>\n",
              "      <td>3.000000</td>\n",
              "      <td>4.000000</td>\n",
              "      <td>4.000000</td>\n",
              "      <td>4.000000</td>\n",
              "    </tr>\n",
              "    <tr>\n",
              "      <th>75%</th>\n",
              "      <td>1.000000</td>\n",
              "      <td>5.000000</td>\n",
              "      <td>3.000000</td>\n",
              "      <td>4.000000</td>\n",
              "      <td>4.000000</td>\n",
              "      <td>4.000000</td>\n",
              "      <td>5.000000</td>\n",
              "    </tr>\n",
              "    <tr>\n",
              "      <th>max</th>\n",
              "      <td>1.000000</td>\n",
              "      <td>5.000000</td>\n",
              "      <td>5.000000</td>\n",
              "      <td>5.000000</td>\n",
              "      <td>5.000000</td>\n",
              "      <td>5.000000</td>\n",
              "      <td>5.000000</td>\n",
              "    </tr>\n",
              "  </tbody>\n",
              "</table>\n",
              "</div>\n",
              "    <div class=\"colab-df-buttons\">\n",
              "\n",
              "  <div class=\"colab-df-container\">\n",
              "    <button class=\"colab-df-convert\" onclick=\"convertToInteractive('df-0684c8d0-c4be-4755-9349-6aedc2a92dea')\"\n",
              "            title=\"Convert this dataframe to an interactive table.\"\n",
              "            style=\"display:none;\">\n",
              "\n",
              "  <svg xmlns=\"http://www.w3.org/2000/svg\" height=\"24px\" viewBox=\"0 -960 960 960\">\n",
              "    <path d=\"M120-120v-720h720v720H120Zm60-500h600v-160H180v160Zm220 220h160v-160H400v160Zm0 220h160v-160H400v160ZM180-400h160v-160H180v160Zm440 0h160v-160H620v160ZM180-180h160v-160H180v160Zm440 0h160v-160H620v160Z\"/>\n",
              "  </svg>\n",
              "    </button>\n",
              "\n",
              "  <style>\n",
              "    .colab-df-container {\n",
              "      display:flex;\n",
              "      gap: 12px;\n",
              "    }\n",
              "\n",
              "    .colab-df-convert {\n",
              "      background-color: #E8F0FE;\n",
              "      border: none;\n",
              "      border-radius: 50%;\n",
              "      cursor: pointer;\n",
              "      display: none;\n",
              "      fill: #1967D2;\n",
              "      height: 32px;\n",
              "      padding: 0 0 0 0;\n",
              "      width: 32px;\n",
              "    }\n",
              "\n",
              "    .colab-df-convert:hover {\n",
              "      background-color: #E2EBFA;\n",
              "      box-shadow: 0px 1px 2px rgba(60, 64, 67, 0.3), 0px 1px 3px 1px rgba(60, 64, 67, 0.15);\n",
              "      fill: #174EA6;\n",
              "    }\n",
              "\n",
              "    .colab-df-buttons div {\n",
              "      margin-bottom: 4px;\n",
              "    }\n",
              "\n",
              "    [theme=dark] .colab-df-convert {\n",
              "      background-color: #3B4455;\n",
              "      fill: #D2E3FC;\n",
              "    }\n",
              "\n",
              "    [theme=dark] .colab-df-convert:hover {\n",
              "      background-color: #434B5C;\n",
              "      box-shadow: 0px 1px 3px 1px rgba(0, 0, 0, 0.15);\n",
              "      filter: drop-shadow(0px 1px 2px rgba(0, 0, 0, 0.3));\n",
              "      fill: #FFFFFF;\n",
              "    }\n",
              "  </style>\n",
              "\n",
              "    <script>\n",
              "      const buttonEl =\n",
              "        document.querySelector('#df-0684c8d0-c4be-4755-9349-6aedc2a92dea button.colab-df-convert');\n",
              "      buttonEl.style.display =\n",
              "        google.colab.kernel.accessAllowed ? 'block' : 'none';\n",
              "\n",
              "      async function convertToInteractive(key) {\n",
              "        const element = document.querySelector('#df-0684c8d0-c4be-4755-9349-6aedc2a92dea');\n",
              "        const dataTable =\n",
              "          await google.colab.kernel.invokeFunction('convertToInteractive',\n",
              "                                                    [key], {});\n",
              "        if (!dataTable) return;\n",
              "\n",
              "        const docLinkHtml = 'Like what you see? Visit the ' +\n",
              "          '<a target=\"_blank\" href=https://colab.research.google.com/notebooks/data_table.ipynb>data table notebook</a>'\n",
              "          + ' to learn more about interactive tables.';\n",
              "        element.innerHTML = '';\n",
              "        dataTable['output_type'] = 'display_data';\n",
              "        await google.colab.output.renderOutput(dataTable, element);\n",
              "        const docLink = document.createElement('div');\n",
              "        docLink.innerHTML = docLinkHtml;\n",
              "        element.appendChild(docLink);\n",
              "      }\n",
              "    </script>\n",
              "  </div>\n",
              "\n",
              "\n",
              "<div id=\"df-7311626a-1fb1-481c-a213-504c2146f062\">\n",
              "  <button class=\"colab-df-quickchart\" onclick=\"quickchart('df-7311626a-1fb1-481c-a213-504c2146f062')\"\n",
              "            title=\"Suggest charts\"\n",
              "            style=\"display:none;\">\n",
              "\n",
              "<svg xmlns=\"http://www.w3.org/2000/svg\" height=\"24px\"viewBox=\"0 0 24 24\"\n",
              "     width=\"24px\">\n",
              "    <g>\n",
              "        <path d=\"M19 3H5c-1.1 0-2 .9-2 2v14c0 1.1.9 2 2 2h14c1.1 0 2-.9 2-2V5c0-1.1-.9-2-2-2zM9 17H7v-7h2v7zm4 0h-2V7h2v10zm4 0h-2v-4h2v4z\"/>\n",
              "    </g>\n",
              "</svg>\n",
              "  </button>\n",
              "\n",
              "<style>\n",
              "  .colab-df-quickchart {\n",
              "      --bg-color: #E8F0FE;\n",
              "      --fill-color: #1967D2;\n",
              "      --hover-bg-color: #E2EBFA;\n",
              "      --hover-fill-color: #174EA6;\n",
              "      --disabled-fill-color: #AAA;\n",
              "      --disabled-bg-color: #DDD;\n",
              "  }\n",
              "\n",
              "  [theme=dark] .colab-df-quickchart {\n",
              "      --bg-color: #3B4455;\n",
              "      --fill-color: #D2E3FC;\n",
              "      --hover-bg-color: #434B5C;\n",
              "      --hover-fill-color: #FFFFFF;\n",
              "      --disabled-bg-color: #3B4455;\n",
              "      --disabled-fill-color: #666;\n",
              "  }\n",
              "\n",
              "  .colab-df-quickchart {\n",
              "    background-color: var(--bg-color);\n",
              "    border: none;\n",
              "    border-radius: 50%;\n",
              "    cursor: pointer;\n",
              "    display: none;\n",
              "    fill: var(--fill-color);\n",
              "    height: 32px;\n",
              "    padding: 0;\n",
              "    width: 32px;\n",
              "  }\n",
              "\n",
              "  .colab-df-quickchart:hover {\n",
              "    background-color: var(--hover-bg-color);\n",
              "    box-shadow: 0 1px 2px rgba(60, 64, 67, 0.3), 0 1px 3px 1px rgba(60, 64, 67, 0.15);\n",
              "    fill: var(--button-hover-fill-color);\n",
              "  }\n",
              "\n",
              "  .colab-df-quickchart-complete:disabled,\n",
              "  .colab-df-quickchart-complete:disabled:hover {\n",
              "    background-color: var(--disabled-bg-color);\n",
              "    fill: var(--disabled-fill-color);\n",
              "    box-shadow: none;\n",
              "  }\n",
              "\n",
              "  .colab-df-spinner {\n",
              "    border: 2px solid var(--fill-color);\n",
              "    border-color: transparent;\n",
              "    border-bottom-color: var(--fill-color);\n",
              "    animation:\n",
              "      spin 1s steps(1) infinite;\n",
              "  }\n",
              "\n",
              "  @keyframes spin {\n",
              "    0% {\n",
              "      border-color: transparent;\n",
              "      border-bottom-color: var(--fill-color);\n",
              "      border-left-color: var(--fill-color);\n",
              "    }\n",
              "    20% {\n",
              "      border-color: transparent;\n",
              "      border-left-color: var(--fill-color);\n",
              "      border-top-color: var(--fill-color);\n",
              "    }\n",
              "    30% {\n",
              "      border-color: transparent;\n",
              "      border-left-color: var(--fill-color);\n",
              "      border-top-color: var(--fill-color);\n",
              "      border-right-color: var(--fill-color);\n",
              "    }\n",
              "    40% {\n",
              "      border-color: transparent;\n",
              "      border-right-color: var(--fill-color);\n",
              "      border-top-color: var(--fill-color);\n",
              "    }\n",
              "    60% {\n",
              "      border-color: transparent;\n",
              "      border-right-color: var(--fill-color);\n",
              "    }\n",
              "    80% {\n",
              "      border-color: transparent;\n",
              "      border-right-color: var(--fill-color);\n",
              "      border-bottom-color: var(--fill-color);\n",
              "    }\n",
              "    90% {\n",
              "      border-color: transparent;\n",
              "      border-bottom-color: var(--fill-color);\n",
              "    }\n",
              "  }\n",
              "</style>\n",
              "\n",
              "  <script>\n",
              "    async function quickchart(key) {\n",
              "      const quickchartButtonEl =\n",
              "        document.querySelector('#' + key + ' button');\n",
              "      quickchartButtonEl.disabled = true;  // To prevent multiple clicks.\n",
              "      quickchartButtonEl.classList.add('colab-df-spinner');\n",
              "      try {\n",
              "        const charts = await google.colab.kernel.invokeFunction(\n",
              "            'suggestCharts', [key], {});\n",
              "      } catch (error) {\n",
              "        console.error('Error during call to suggestCharts:', error);\n",
              "      }\n",
              "      quickchartButtonEl.classList.remove('colab-df-spinner');\n",
              "      quickchartButtonEl.classList.add('colab-df-quickchart-complete');\n",
              "    }\n",
              "    (() => {\n",
              "      let quickchartButtonEl =\n",
              "        document.querySelector('#df-7311626a-1fb1-481c-a213-504c2146f062 button');\n",
              "      quickchartButtonEl.style.display =\n",
              "        google.colab.kernel.accessAllowed ? 'block' : 'none';\n",
              "    })();\n",
              "  </script>\n",
              "</div>\n",
              "    </div>\n",
              "  </div>\n"
            ],
            "application/vnd.google.colaboratory.intrinsic+json": {
              "type": "dataframe",
              "summary": "{\n  \"name\": \"survey_df\",\n  \"rows\": 8,\n  \"fields\": [\n    {\n      \"column\": \"Y\",\n      \"properties\": {\n        \"dtype\": \"number\",\n        \"std\": 44.34525419957374,\n        \"min\": 0.0,\n        \"max\": 126.0,\n        \"num_unique_values\": 5,\n        \"samples\": [\n          0.5476190476190477,\n          1.0,\n          0.4997142040349521\n        ],\n        \"semantic_type\": \"\",\n        \"description\": \"\"\n      }\n    },\n    {\n      \"column\": \"X1\",\n      \"properties\": {\n        \"dtype\": \"number\",\n        \"std\": 43.31323984686144,\n        \"min\": 0.8,\n        \"max\": 126.0,\n        \"num_unique_values\": 6,\n        \"samples\": [\n          126.0,\n          4.333333333333333,\n          5.0\n        ],\n        \"semantic_type\": \"\",\n        \"description\": \"\"\n      }\n    },\n    {\n      \"column\": \"X2\",\n      \"properties\": {\n        \"dtype\": \"number\",\n        \"std\": 43.6747036061378,\n        \"min\": 1.0,\n        \"max\": 126.0,\n        \"num_unique_values\": 7,\n        \"samples\": [\n          126.0,\n          2.5317460317460316,\n          3.0\n        ],\n        \"semantic_type\": \"\",\n        \"description\": \"\"\n      }\n    },\n    {\n      \"column\": \"X3\",\n      \"properties\": {\n        \"dtype\": \"number\",\n        \"std\": 43.5419885277691,\n        \"min\": 1.0,\n        \"max\": 126.0,\n        \"num_unique_values\": 7,\n        \"samples\": [\n          126.0,\n          3.3095238095238093,\n          4.0\n        ],\n        \"semantic_type\": \"\",\n        \"description\": \"\"\n      }\n    },\n    {\n      \"column\": \"X4\",\n      \"properties\": {\n        \"dtype\": \"number\",\n        \"std\": 43.480332108134476,\n        \"min\": 0.8757762996245827,\n        \"max\": 126.0,\n        \"num_unique_values\": 7,\n        \"samples\": [\n          126.0,\n          3.746031746031746,\n          4.0\n        ],\n        \"semantic_type\": \"\",\n        \"description\": \"\"\n      }\n    },\n    {\n      \"column\": \"X5\",\n      \"properties\": {\n        \"dtype\": \"number\",\n        \"std\": 43.46936231586972,\n        \"min\": 1.0,\n        \"max\": 126.0,\n        \"num_unique_values\": 7,\n        \"samples\": [\n          126.0,\n          3.6507936507936507,\n          4.0\n        ],\n        \"semantic_type\": \"\",\n        \"description\": \"\"\n      }\n    },\n    {\n      \"column\": \"X6\",\n      \"properties\": {\n        \"dtype\": \"number\",\n        \"std\": 43.36370727654915,\n        \"min\": 0.8093108963705646,\n        \"max\": 126.0,\n        \"num_unique_values\": 6,\n        \"samples\": [\n          126.0,\n          4.253968253968254,\n          5.0\n        ],\n        \"semantic_type\": \"\",\n        \"description\": \"\"\n      }\n    }\n  ]\n}"
            }
          },
          "metadata": {},
          "execution_count": 7
        }
      ]
    },
    {
      "cell_type": "markdown",
      "source": [
        "- distribution of each column -- not needed now"
      ],
      "metadata": {
        "id": "IRBoSgpC2qBO"
      }
    },
    {
      "cell_type": "code",
      "source": [
        "corr = survey_df.corr(numeric_only = True)\n",
        "corr.style.background_gradient(cmap='coolwarm')"
      ],
      "metadata": {
        "colab": {
          "base_uri": "https://localhost:8080/",
          "height": 269
        },
        "id": "5nQfz2zJ93f0",
        "outputId": "4889f948-9a86-4afc-9fd1-7f37c0951b24"
      },
      "execution_count": 8,
      "outputs": [
        {
          "output_type": "execute_result",
          "data": {
            "text/plain": [
              "<pandas.io.formats.style.Styler at 0x79569c645780>"
            ],
            "text/html": [
              "<style type=\"text/css\">\n",
              "#T_1e32f_row0_col0, #T_1e32f_row1_col1, #T_1e32f_row2_col2, #T_1e32f_row3_col3, #T_1e32f_row4_col4, #T_1e32f_row5_col5, #T_1e32f_row6_col6 {\n",
              "  background-color: #b40426;\n",
              "  color: #f1f1f1;\n",
              "}\n",
              "#T_1e32f_row0_col1, #T_1e32f_row3_col1 {\n",
              "  background-color: #88abfd;\n",
              "  color: #000000;\n",
              "}\n",
              "#T_1e32f_row0_col2 {\n",
              "  background-color: #455cce;\n",
              "  color: #f1f1f1;\n",
              "}\n",
              "#T_1e32f_row0_col3, #T_1e32f_row0_col4, #T_1e32f_row2_col0, #T_1e32f_row2_col1, #T_1e32f_row2_col5, #T_1e32f_row2_col6, #T_1e32f_row6_col2 {\n",
              "  background-color: #3b4cc0;\n",
              "  color: #f1f1f1;\n",
              "}\n",
              "#T_1e32f_row0_col5 {\n",
              "  background-color: #799cf8;\n",
              "  color: #f1f1f1;\n",
              "}\n",
              "#T_1e32f_row0_col6 {\n",
              "  background-color: #81a4fb;\n",
              "  color: #f1f1f1;\n",
              "}\n",
              "#T_1e32f_row1_col0 {\n",
              "  background-color: #9ebeff;\n",
              "  color: #000000;\n",
              "}\n",
              "#T_1e32f_row1_col2 {\n",
              "  background-color: #5e7de7;\n",
              "  color: #f1f1f1;\n",
              "}\n",
              "#T_1e32f_row1_col3 {\n",
              "  background-color: #6b8df0;\n",
              "  color: #f1f1f1;\n",
              "}\n",
              "#T_1e32f_row1_col4 {\n",
              "  background-color: #4257c9;\n",
              "  color: #f1f1f1;\n",
              "}\n",
              "#T_1e32f_row1_col5 {\n",
              "  background-color: #c3d5f4;\n",
              "  color: #000000;\n",
              "}\n",
              "#T_1e32f_row1_col6 {\n",
              "  background-color: #cedaeb;\n",
              "  color: #000000;\n",
              "}\n",
              "#T_1e32f_row2_col3 {\n",
              "  background-color: #465ecf;\n",
              "  color: #f1f1f1;\n",
              "}\n",
              "#T_1e32f_row2_col4 {\n",
              "  background-color: #4a63d3;\n",
              "  color: #f1f1f1;\n",
              "}\n",
              "#T_1e32f_row3_col0 {\n",
              "  background-color: #7093f3;\n",
              "  color: #f1f1f1;\n",
              "}\n",
              "#T_1e32f_row3_col2 {\n",
              "  background-color: #86a9fc;\n",
              "  color: #f1f1f1;\n",
              "}\n",
              "#T_1e32f_row3_col4 {\n",
              "  background-color: #8fb1fe;\n",
              "  color: #000000;\n",
              "}\n",
              "#T_1e32f_row3_col5 {\n",
              "  background-color: #a9c6fd;\n",
              "  color: #000000;\n",
              "}\n",
              "#T_1e32f_row3_col6 {\n",
              "  background-color: #8db0fe;\n",
              "  color: #000000;\n",
              "}\n",
              "#T_1e32f_row4_col0 {\n",
              "  background-color: #5572df;\n",
              "  color: #f1f1f1;\n",
              "}\n",
              "#T_1e32f_row4_col1 {\n",
              "  background-color: #4358cb;\n",
              "  color: #f1f1f1;\n",
              "}\n",
              "#T_1e32f_row4_col2 {\n",
              "  background-color: #6f92f3;\n",
              "  color: #f1f1f1;\n",
              "}\n",
              "#T_1e32f_row4_col3 {\n",
              "  background-color: #7396f5;\n",
              "  color: #f1f1f1;\n",
              "}\n",
              "#T_1e32f_row4_col5, #T_1e32f_row4_col6 {\n",
              "  background-color: #92b4fe;\n",
              "  color: #000000;\n",
              "}\n",
              "#T_1e32f_row5_col0, #T_1e32f_row5_col3, #T_1e32f_row5_col4 {\n",
              "  background-color: #8badfd;\n",
              "  color: #000000;\n",
              "}\n",
              "#T_1e32f_row5_col1 {\n",
              "  background-color: #bfd3f6;\n",
              "  color: #000000;\n",
              "}\n",
              "#T_1e32f_row5_col2 {\n",
              "  background-color: #5875e1;\n",
              "  color: #f1f1f1;\n",
              "}\n",
              "#T_1e32f_row5_col6 {\n",
              "  background-color: #b3cdfb;\n",
              "  color: #000000;\n",
              "}\n",
              "#T_1e32f_row6_col0 {\n",
              "  background-color: #7699f6;\n",
              "  color: #f1f1f1;\n",
              "}\n",
              "#T_1e32f_row6_col1 {\n",
              "  background-color: #b7cff9;\n",
              "  color: #000000;\n",
              "}\n",
              "#T_1e32f_row6_col3 {\n",
              "  background-color: #4c66d6;\n",
              "  color: #f1f1f1;\n",
              "}\n",
              "#T_1e32f_row6_col4 {\n",
              "  background-color: #6e90f2;\n",
              "  color: #f1f1f1;\n",
              "}\n",
              "#T_1e32f_row6_col5 {\n",
              "  background-color: #9bbcff;\n",
              "  color: #000000;\n",
              "}\n",
              "</style>\n",
              "<table id=\"T_1e32f\" class=\"dataframe\">\n",
              "  <thead>\n",
              "    <tr>\n",
              "      <th class=\"blank level0\" >&nbsp;</th>\n",
              "      <th id=\"T_1e32f_level0_col0\" class=\"col_heading level0 col0\" >Y</th>\n",
              "      <th id=\"T_1e32f_level0_col1\" class=\"col_heading level0 col1\" >X1</th>\n",
              "      <th id=\"T_1e32f_level0_col2\" class=\"col_heading level0 col2\" >X2</th>\n",
              "      <th id=\"T_1e32f_level0_col3\" class=\"col_heading level0 col3\" >X3</th>\n",
              "      <th id=\"T_1e32f_level0_col4\" class=\"col_heading level0 col4\" >X4</th>\n",
              "      <th id=\"T_1e32f_level0_col5\" class=\"col_heading level0 col5\" >X5</th>\n",
              "      <th id=\"T_1e32f_level0_col6\" class=\"col_heading level0 col6\" >X6</th>\n",
              "    </tr>\n",
              "  </thead>\n",
              "  <tbody>\n",
              "    <tr>\n",
              "      <th id=\"T_1e32f_level0_row0\" class=\"row_heading level0 row0\" >Y</th>\n",
              "      <td id=\"T_1e32f_row0_col0\" class=\"data row0 col0\" >1.000000</td>\n",
              "      <td id=\"T_1e32f_row0_col1\" class=\"data row0 col1\" >0.280160</td>\n",
              "      <td id=\"T_1e32f_row0_col2\" class=\"data row0 col2\" >-0.024274</td>\n",
              "      <td id=\"T_1e32f_row0_col3\" class=\"data row0 col3\" >0.150838</td>\n",
              "      <td id=\"T_1e32f_row0_col4\" class=\"data row0 col4\" >0.064415</td>\n",
              "      <td id=\"T_1e32f_row0_col5\" class=\"data row0 col5\" >0.224522</td>\n",
              "      <td id=\"T_1e32f_row0_col6\" class=\"data row0 col6\" >0.167669</td>\n",
              "    </tr>\n",
              "    <tr>\n",
              "      <th id=\"T_1e32f_level0_row1\" class=\"row_heading level0 row1\" >X1</th>\n",
              "      <td id=\"T_1e32f_row1_col0\" class=\"data row1 col0\" >0.280160</td>\n",
              "      <td id=\"T_1e32f_row1_col1\" class=\"data row1 col1\" >1.000000</td>\n",
              "      <td id=\"T_1e32f_row1_col2\" class=\"data row1 col2\" >0.059797</td>\n",
              "      <td id=\"T_1e32f_row1_col3\" class=\"data row1 col3\" >0.283358</td>\n",
              "      <td id=\"T_1e32f_row1_col4\" class=\"data row1 col4\" >0.087541</td>\n",
              "      <td id=\"T_1e32f_row1_col5\" class=\"data row1 col5\" >0.432772</td>\n",
              "      <td id=\"T_1e32f_row1_col6\" class=\"data row1 col6\" >0.411873</td>\n",
              "    </tr>\n",
              "    <tr>\n",
              "      <th id=\"T_1e32f_level0_row2\" class=\"row_heading level0 row2\" >X2</th>\n",
              "      <td id=\"T_1e32f_row2_col0\" class=\"data row2 col0\" >-0.024274</td>\n",
              "      <td id=\"T_1e32f_row2_col1\" class=\"data row2 col1\" >0.059797</td>\n",
              "      <td id=\"T_1e32f_row2_col2\" class=\"data row2 col2\" >1.000000</td>\n",
              "      <td id=\"T_1e32f_row2_col3\" class=\"data row2 col3\" >0.184129</td>\n",
              "      <td id=\"T_1e32f_row2_col4\" class=\"data row2 col4\" >0.114838</td>\n",
              "      <td id=\"T_1e32f_row2_col5\" class=\"data row2 col5\" >0.039996</td>\n",
              "      <td id=\"T_1e32f_row2_col6\" class=\"data row2 col6\" >-0.062205</td>\n",
              "    </tr>\n",
              "    <tr>\n",
              "      <th id=\"T_1e32f_level0_row3\" class=\"row_heading level0 row3\" >X3</th>\n",
              "      <td id=\"T_1e32f_row3_col0\" class=\"data row3 col0\" >0.150838</td>\n",
              "      <td id=\"T_1e32f_row3_col1\" class=\"data row3 col1\" >0.283358</td>\n",
              "      <td id=\"T_1e32f_row3_col2\" class=\"data row3 col2\" >0.184129</td>\n",
              "      <td id=\"T_1e32f_row3_col3\" class=\"data row3 col3\" >1.000000</td>\n",
              "      <td id=\"T_1e32f_row3_col4\" class=\"data row3 col4\" >0.302618</td>\n",
              "      <td id=\"T_1e32f_row3_col5\" class=\"data row3 col5\" >0.358397</td>\n",
              "      <td id=\"T_1e32f_row3_col6\" class=\"data row3 col6\" >0.203750</td>\n",
              "    </tr>\n",
              "    <tr>\n",
              "      <th id=\"T_1e32f_level0_row4\" class=\"row_heading level0 row4\" >X4</th>\n",
              "      <td id=\"T_1e32f_row4_col0\" class=\"data row4 col0\" >0.064415</td>\n",
              "      <td id=\"T_1e32f_row4_col1\" class=\"data row4 col1\" >0.087541</td>\n",
              "      <td id=\"T_1e32f_row4_col2\" class=\"data row4 col2\" >0.114838</td>\n",
              "      <td id=\"T_1e32f_row4_col3\" class=\"data row4 col3\" >0.302618</td>\n",
              "      <td id=\"T_1e32f_row4_col4\" class=\"data row4 col4\" >1.000000</td>\n",
              "      <td id=\"T_1e32f_row4_col5\" class=\"data row4 col5\" >0.293115</td>\n",
              "      <td id=\"T_1e32f_row4_col6\" class=\"data row4 col6\" >0.215888</td>\n",
              "    </tr>\n",
              "    <tr>\n",
              "      <th id=\"T_1e32f_level0_row5\" class=\"row_heading level0 row5\" >X5</th>\n",
              "      <td id=\"T_1e32f_row5_col0\" class=\"data row5 col0\" >0.224522</td>\n",
              "      <td id=\"T_1e32f_row5_col1\" class=\"data row5 col1\" >0.432772</td>\n",
              "      <td id=\"T_1e32f_row5_col2\" class=\"data row5 col2\" >0.039996</td>\n",
              "      <td id=\"T_1e32f_row5_col3\" class=\"data row5 col3\" >0.358397</td>\n",
              "      <td id=\"T_1e32f_row5_col4\" class=\"data row5 col4\" >0.293115</td>\n",
              "      <td id=\"T_1e32f_row5_col5\" class=\"data row5 col5\" >1.000000</td>\n",
              "      <td id=\"T_1e32f_row5_col6\" class=\"data row5 col6\" >0.320195</td>\n",
              "    </tr>\n",
              "    <tr>\n",
              "      <th id=\"T_1e32f_level0_row6\" class=\"row_heading level0 row6\" >X6</th>\n",
              "      <td id=\"T_1e32f_row6_col0\" class=\"data row6 col0\" >0.167669</td>\n",
              "      <td id=\"T_1e32f_row6_col1\" class=\"data row6 col1\" >0.411873</td>\n",
              "      <td id=\"T_1e32f_row6_col2\" class=\"data row6 col2\" >-0.062205</td>\n",
              "      <td id=\"T_1e32f_row6_col3\" class=\"data row6 col3\" >0.203750</td>\n",
              "      <td id=\"T_1e32f_row6_col4\" class=\"data row6 col4\" >0.215888</td>\n",
              "      <td id=\"T_1e32f_row6_col5\" class=\"data row6 col5\" >0.320195</td>\n",
              "      <td id=\"T_1e32f_row6_col6\" class=\"data row6 col6\" >1.000000</td>\n",
              "    </tr>\n",
              "  </tbody>\n",
              "</table>\n"
            ]
          },
          "metadata": {},
          "execution_count": 8
        }
      ]
    },
    {
      "cell_type": "markdown",
      "source": [
        "- ? *color*"
      ],
      "metadata": {
        "id": "iDp1AFdxA-rr"
      }
    },
    {
      "cell_type": "markdown",
      "source": [
        "- data augmentation -- ususally in Image Process, not needed this time"
      ],
      "metadata": {
        "id": "LzTWBM7mxVVI"
      }
    },
    {
      "cell_type": "markdown",
      "source": [
        "## Split Data"
      ],
      "metadata": {
        "id": "80MMXAktLr7r"
      }
    },
    {
      "cell_type": "code",
      "source": [
        "from sklearn.model_selection import train_test_split\n",
        "\n",
        "train, test = train_test_split(survey_df, test_size=0.2, random_state=42)\n",
        "train, val = train_test_split(train, test_size=0.2, random_state=42)\n",
        "print(f\"Training set has {len(train)} samples\")\n",
        "print(f\"Validation set has {len(val)} samples\")\n",
        "print(f\"Test set has {len(test)} samples\")"
      ],
      "metadata": {
        "id": "6lbSB2S5J6wA",
        "colab": {
          "base_uri": "https://localhost:8080/"
        },
        "outputId": "65e87917-18dc-40f1-cb1e-c442626e579a"
      },
      "execution_count": 9,
      "outputs": [
        {
          "output_type": "stream",
          "name": "stdout",
          "text": [
            "Training set has 80 samples\n",
            "Validation set has 20 samples\n",
            "Test set has 26 samples\n"
          ]
        }
      ]
    },
    {
      "cell_type": "code",
      "source": [
        "X_train = train.drop(columns=['Y'])\n",
        "y_train = train['Y']\n",
        "\n",
        "X_val = val.drop(columns=['Y'])\n",
        "y_val = val['Y']\n",
        "\n",
        "X_test = test.drop(columns=['Y'])\n",
        "y_test = test['Y']"
      ],
      "metadata": {
        "id": "NrYJtjXQLxco"
      },
      "execution_count": 10,
      "outputs": []
    },
    {
      "cell_type": "markdown",
      "source": [
        "## Column Inspection"
      ],
      "metadata": {
        "id": "ns9_0lbMgpaG"
      }
    },
    {
      "cell_type": "markdown",
      "source": [
        "- ?? On all the data or only on the training set?"
      ],
      "metadata": {
        "id": "TidzcmDwknlF"
      }
    },
    {
      "cell_type": "code",
      "source": [
        "import matplotlib.pyplot as plt\n",
        "\n",
        "def show_avg_Y_and_observation(X,Y,X_value=[1, 2, 3, 4, 5], show_plot=True, use_X_frequency=True):\n",
        "  \"\"\"\n",
        "  For each possible value of X:\n",
        "    count its appearances, stored in X_num\n",
        "    compute its corresponding mean Y, stored in Y_avg\n",
        "  X, Y are dataframe columns\n",
        "  \"\"\"\n",
        "  # print(X.value_counts())\n",
        "  X_num = []\n",
        "  X_freq = []\n",
        "  Y_avg = []\n",
        "\n",
        "  for x in X_value:\n",
        "    num = (X == x).sum()\n",
        "    X_num.append(num)\n",
        "    freq = num / len(X)\n",
        "    X_freq.append(freq)\n",
        "    avg = Y[X==x].mean()\n",
        "    Y_avg.append(avg)\n",
        "    # if num == 0:\n",
        "    #   Y_avg.append(0.0)\n",
        "    # else:\n",
        "    #   avg = Y[X==x].mean()\n",
        "    #   Y_avg.append(avg)\n",
        "\n",
        "  # print(X_num)\n",
        "  # print(Y_avg)\n",
        "\n",
        "  if show_plot:\n",
        "    fig, ax1 = plt.subplots()\n",
        "\n",
        "    # ax1.set_title('column inspection', fontsize=16)\n",
        "\n",
        "    X_data = X_num\n",
        "    if use_X_frequency:\n",
        "      X_data = X_freq\n",
        "      ax1.set_ylim(-0.05, 1.05)\n",
        "    ax1.set_xlabel('X Value')\n",
        "    color1='blue'\n",
        "    ax1.set_ylabel('X Occurrences', color=color1)\n",
        "    ax1.bar(X_value, X_data, color=color1)\n",
        "    ax1.tick_params(axis='y', color=color1)\n",
        "\n",
        "    ax2 = ax1.twinx()  # share the x-axis, new y-axis\n",
        "    color2 = 'red'\n",
        "    ax2.set_ylabel('Average Y', color=color2)\n",
        "    ax2.plot(X_value, Y_avg, color=color2, marker=\"x\")\n",
        "    ax2.tick_params(axis='y', labelcolor=color2)\n",
        "    ax2.set_ylim(-0.05, 1.05)\n",
        "\n",
        "    plt.show()\n",
        "\n",
        "  return {\"Y_avg\": Y_avg, \"X_num\": X_num, \"X_freq\": X_freq}\n",
        "\n"
      ],
      "metadata": {
        "id": "90Tv9nBPgqNG"
      },
      "execution_count": 11,
      "outputs": []
    },
    {
      "cell_type": "markdown",
      "source": [
        "### X1"
      ],
      "metadata": {
        "id": "8j2PAn93bLPw"
      }
    },
    {
      "cell_type": "code",
      "source": [
        "show_avg_Y_and_observation(train['X1'], train['Y'])"
      ],
      "metadata": {
        "colab": {
          "base_uri": "https://localhost:8080/",
          "height": 571
        },
        "id": "figPWfgYah61",
        "outputId": "d749daf2-b863-43f3-e0c0-56618c117064"
      },
      "execution_count": 12,
      "outputs": [
        {
          "output_type": "display_data",
          "data": {
            "text/plain": [
              "<Figure size 640x480 with 2 Axes>"
            ],
            "image/png": "[encoded data removed]"
          },
          "metadata": {}
        },
        {
          "output_type": "execute_result",
          "data": {
            "text/plain": [
              "{'Y_avg': [0.0,\n",
              "  nan,\n",
              "  0.3333333333333333,\n",
              "  0.4642857142857143,\n",
              "  0.717948717948718],\n",
              " 'X_num': [1, 0, 12, 28, 39],\n",
              " 'X_freq': [0.0125, 0.0, 0.15, 0.35, 0.4875]}"
            ]
          },
          "metadata": {},
          "execution_count": 12
        }
      ]
    },
    {
      "cell_type": "markdown",
      "source": [
        "### X2"
      ],
      "metadata": {
        "id": "UP2u0X4enFoT"
      }
    },
    {
      "cell_type": "code",
      "source": [
        "show_avg_Y_and_observation(train['X2'], train['Y'])"
      ],
      "metadata": {
        "colab": {
          "base_uri": "https://localhost:8080/",
          "height": 571
        },
        "id": "-CVqxVjdnE31",
        "outputId": "dfcac5fa-77a0-4d86-cbd0-a9b0869f198c"
      },
      "execution_count": 13,
      "outputs": [
        {
          "output_type": "display_data",
          "data": {
            "text/plain": [
              "<Figure size 640x480 with 2 Axes>"
            ],
            "image/png": "[encoded data removed]"
          },
          "metadata": {}
        },
        {
          "output_type": "execute_result",
          "data": {
            "text/plain": [
              "{'Y_avg': [0.5714285714285714,\n",
              "  0.7142857142857143,\n",
              "  0.4838709677419355,\n",
              "  0.375,\n",
              "  0.6666666666666666],\n",
              " 'X_num': [14, 21, 31, 8, 6],\n",
              " 'X_freq': [0.175, 0.2625, 0.3875, 0.1, 0.075]}"
            ]
          },
          "metadata": {},
          "execution_count": 13
        }
      ]
    },
    {
      "cell_type": "markdown",
      "source": [
        "### X3"
      ],
      "metadata": {
        "id": "UrJ1fdh4p_nY"
      }
    },
    {
      "cell_type": "code",
      "source": [
        "show_avg_Y_and_observation(train['X3'], train['Y'])"
      ],
      "metadata": {
        "colab": {
          "base_uri": "https://localhost:8080/",
          "height": 571
        },
        "id": "h87xFZH8p-Gy",
        "outputId": "814ebbd6-dedd-4753-b063-e8cbfa0a83f0"
      },
      "execution_count": 14,
      "outputs": [
        {
          "output_type": "display_data",
          "data": {
            "text/plain": [
              "<Figure size 640x480 with 2 Axes>"
            ],
            "image/png": "[encoded data removed]"
          },
          "metadata": {}
        },
        {
          "output_type": "execute_result",
          "data": {
            "text/plain": [
              "{'Y_avg': [0.5,\n",
              "  0.375,\n",
              "  0.5882352941176471,\n",
              "  0.6190476190476191,\n",
              "  0.5384615384615384],\n",
              " 'X_num': [4, 8, 34, 21, 13],\n",
              " 'X_freq': [0.05, 0.1, 0.425, 0.2625, 0.1625]}"
            ]
          },
          "metadata": {},
          "execution_count": 14
        }
      ]
    },
    {
      "cell_type": "markdown",
      "source": [
        "### X4"
      ],
      "metadata": {
        "id": "mfNzadFw6y7q"
      }
    },
    {
      "cell_type": "code",
      "source": [
        "show_avg_Y_and_observation(train['X4'], train['Y'])"
      ],
      "metadata": {
        "colab": {
          "base_uri": "https://localhost:8080/",
          "height": 501
        },
        "id": "GohI4wA06ySk",
        "outputId": "03a35409-b2e7-44ab-f5cb-daa2fc7053b4"
      },
      "execution_count": 15,
      "outputs": [
        {
          "output_type": "display_data",
          "data": {
            "text/plain": [
              "<Figure size 640x480 with 2 Axes>"
            ],
            "image/png": "[encoded data removed]"
          },
          "metadata": {}
        },
        {
          "output_type": "execute_result",
          "data": {
            "text/plain": [
              "{'Y_avg': [1.0, 0.0, 0.6086956521739131, 0.5675675675675675, 0.5],\n",
              " 'X_num': [2, 2, 23, 37, 16],\n",
              " 'X_freq': [0.025, 0.025, 0.2875, 0.4625, 0.2]}"
            ]
          },
          "metadata": {},
          "execution_count": 15
        }
      ]
    },
    {
      "cell_type": "markdown",
      "source": [
        "### X5"
      ],
      "metadata": {
        "id": "QizzYJtBDKb5"
      }
    },
    {
      "cell_type": "code",
      "source": [
        "show_avg_Y_and_observation(train['X5'], train['Y'])"
      ],
      "metadata": {
        "colab": {
          "base_uri": "https://localhost:8080/",
          "height": 571
        },
        "id": "yYLJ3UTkDTmQ",
        "outputId": "71de6dea-8660-41ad-ed6d-be414b9de9ae"
      },
      "execution_count": 16,
      "outputs": [
        {
          "output_type": "display_data",
          "data": {
            "text/plain": [
              "<Figure size 640x480 with 2 Axes>"
            ],
            "image/png": "[encoded data removed]"
          },
          "metadata": {}
        },
        {
          "output_type": "execute_result",
          "data": {
            "text/plain": [
              "{'Y_avg': [0.2,\n",
              "  0.5555555555555556,\n",
              "  0.5,\n",
              "  0.6060606060606061,\n",
              "  0.6190476190476191],\n",
              " 'X_num': [5, 9, 12, 33, 21],\n",
              " 'X_freq': [0.0625, 0.1125, 0.15, 0.4125, 0.2625]}"
            ]
          },
          "metadata": {},
          "execution_count": 16
        }
      ]
    },
    {
      "cell_type": "markdown",
      "source": [
        "### X6"
      ],
      "metadata": {
        "id": "QoBLO40tRQY4"
      }
    },
    {
      "cell_type": "code",
      "source": [
        "show_avg_Y_and_observation(train['X6'], train['Y'])"
      ],
      "metadata": {
        "colab": {
          "base_uri": "https://localhost:8080/",
          "height": 501
        },
        "id": "UUdPiNm0RRlL",
        "outputId": "46489070-7936-4eef-82f4-484ca78c4232"
      },
      "execution_count": 17,
      "outputs": [
        {
          "output_type": "display_data",
          "data": {
            "text/plain": [
              "<Figure size 640x480 with 2 Axes>"
            ],
            "image/png": "[encoded data removed]"
          },
          "metadata": {}
        },
        {
          "output_type": "execute_result",
          "data": {
            "text/plain": [
              "{'Y_avg': [1.0, nan, 0.26666666666666666, 0.59375, 0.65625],\n",
              " 'X_num': [1, 0, 15, 32, 32],\n",
              " 'X_freq': [0.0125, 0.0, 0.1875, 0.4, 0.4]}"
            ]
          },
          "metadata": {},
          "execution_count": 17
        }
      ]
    },
    {
      "cell_type": "markdown",
      "source": [
        "- ?? Maybe X2 can be deleted"
      ],
      "metadata": {
        "id": "9N8SG_6EE9_D"
      }
    },
    {
      "cell_type": "markdown",
      "source": [
        "## ~Standardize Data~\n",
        "\n",
        "Not needed here, as X1~X5 are well-structured in this case."
      ],
      "metadata": {
        "id": "u4Vkz2W2Nj3r"
      }
    },
    {
      "cell_type": "code",
      "source": [
        "# from sklearn.preprocessing import StandardScaler\n",
        "\n",
        "# scaler = StandardScaler().fit(X_train_un)"
      ],
      "metadata": {
        "id": "dnznLoQ8NuDc"
      },
      "execution_count": 18,
      "outputs": []
    },
    {
      "cell_type": "code",
      "source": [
        "# X_train = scaler.transform(X_train_un)  ## zero mean, unit variance\n",
        "# print(X_train.mean(axis=0))\n",
        "# print(X_train.std(axis=0))"
      ],
      "metadata": {
        "id": "ami2fQNPQ0Sg"
      },
      "execution_count": 19,
      "outputs": []
    },
    {
      "cell_type": "code",
      "source": [
        "# X_val = scaler.transform(X_val_un)\n",
        "# X_test = scaler.transform(X_test_un)\n",
        "\n",
        "# print(X_val.mean(axis=0))\n",
        "# print(X_val.std(axis=0))\n",
        "# print(X_test.mean(axis=0))\n",
        "# print(X_test.std(axis=0))"
      ],
      "metadata": {
        "id": "1939WS1tSIMA"
      },
      "execution_count": 20,
      "outputs": []
    },
    {
      "cell_type": "markdown",
      "source": [
        "Not close to 0 and 1 --> The performance of `StandardScaler()` is **NOT** good.    \n",
        "Maybe it's casued by the small data size, i.e. the distribution of training data cannot well represent the distribution of all the data."
      ],
      "metadata": {
        "id": "drb3II_5TETb"
      }
    },
    {
      "cell_type": "code",
      "source": [
        "## no need to change Y\n",
        "# y_train, y_val, y_test = y_train_un, y_val_un, y_test_un"
      ],
      "metadata": {
        "id": "xrcIaC27Tzry"
      },
      "execution_count": 21,
      "outputs": []
    },
    {
      "cell_type": "markdown",
      "source": [
        "# XGBoost"
      ],
      "metadata": {
        "id": "AP_snxvoLTkD"
      }
    },
    {
      "cell_type": "markdown",
      "source": [
        "## Train"
      ],
      "metadata": {
        "id": "bW9n-HDlRjGr"
      }
    },
    {
      "cell_type": "markdown",
      "source": [
        "- ! Havn't took a look at its math detail\n",
        "- Not sure about the params\n",
        "- Doc: use [xgboost with sklearn](https://xgboost.readthedocs.io/en/stable/python/sklearn_estimator.html)"
      ],
      "metadata": {
        "id": "ELbegq7TN54s"
      }
    },
    {
      "cell_type": "code",
      "source": [
        "import xgboost as xgb\n",
        "\n",
        "clf_XGB = xgb.XGBClassifier(tree_method=\"hist\", early_stopping_rounds=5)\n",
        "clf_XGB.fit(X_train, y_train, eval_set=[(X_val, y_val)])\n",
        "print(f\"training accuracy: {clf_XGB.score(X_train, y_train)}\")\n",
        "\n",
        "print(f\"validation accuracy: {clf_XGB.score(X_val, y_val)}\")"
      ],
      "metadata": {
        "colab": {
          "base_uri": "https://localhost:8080/"
        },
        "id": "Un-N_b6tLVnJ",
        "outputId": "8b878d66-3c91-4053-b431-4e3b7686db7b"
      },
      "execution_count": 23,
      "outputs": [
        {
          "output_type": "stream",
          "name": "stdout",
          "text": [
            "[0]\tvalidation_0-logloss:0.64747\n",
            "[1]\tvalidation_0-logloss:0.64258\n",
            "[2]\tvalidation_0-logloss:0.63245\n",
            "[3]\tvalidation_0-logloss:0.64439\n",
            "[4]\tvalidation_0-logloss:0.63131\n",
            "[5]\tvalidation_0-logloss:0.63373\n",
            "[6]\tvalidation_0-logloss:0.64865\n",
            "[7]\tvalidation_0-logloss:0.66111\n",
            "[8]\tvalidation_0-logloss:0.68106\n",
            "training accuracy: 0.7625\n",
            "validation accuracy: 0.7\n"
          ]
        }
      ]
    },
    {
      "cell_type": "markdown",
      "source": [
        "## Feature Importance"
      ],
      "metadata": {
        "id": "zHxOs_Z6RoSL"
      }
    },
    {
      "cell_type": "code",
      "source": [
        "clf_XGB.feature_importances_"
      ],
      "metadata": {
        "colab": {
          "base_uri": "https://localhost:8080/"
        },
        "id": "buD14TGWRHVX",
        "outputId": "7d27dd99-3897-460f-e82f-20b400ec3f2a"
      },
      "execution_count": 24,
      "outputs": [
        {
          "output_type": "execute_result",
          "data": {
            "text/plain": [
              "array([0.36997   , 0.08849205, 0.17052795, 0.06337268, 0.09022153,\n",
              "       0.21741578], dtype=float32)"
            ]
          },
          "metadata": {},
          "execution_count": 24
        }
      ]
    },
    {
      "cell_type": "markdown",
      "source": [
        "- ?? Maybe X2 and X4 can be deleted"
      ],
      "metadata": {
        "id": "3i4oH0TzR11C"
      }
    },
    {
      "cell_type": "markdown",
      "source": [
        "## Entropy / Info Gain"
      ],
      "metadata": {
        "id": "7pBNBuOHR6Iy"
      }
    },
    {
      "cell_type": "markdown",
      "source": [
        "for select features as tree node   \n",
        "?? how to use here"
      ],
      "metadata": {
        "id": "VFvoKAuLSGBS"
      }
    },
    {
      "cell_type": "markdown",
      "source": [
        "## Confusion Matrix"
      ],
      "metadata": {
        "id": "CDoDsPRrSeVV"
      }
    },
    {
      "cell_type": "code",
      "source": [
        "y_val_ = clf_XGB.predict(X_val)\n",
        "y_train_ = clf_XGB.predict(X_train)"
      ],
      "metadata": {
        "id": "flJ2mq-vStDk"
      },
      "execution_count": 25,
      "outputs": []
    },
    {
      "cell_type": "code",
      "source": [
        "val['Y_'] = y_val_\n",
        "train['Y_'] = y_train_"
      ],
      "metadata": {
        "id": "xT3ghUUtTDEf"
      },
      "execution_count": 26,
      "outputs": []
    },
    {
      "cell_type": "code",
      "source": [
        "from sklearn.metrics import confusion_matrix\n",
        "## Confusion matrix whose i-th row and j-th column entry\n",
        "## indicates the number of samples with\n",
        "## true label being i-th class and predicted label being j-th class.\n",
        "## row -- true label; col -- pred label\n",
        "\n",
        "print(\"Confusion_Matrix\")\n",
        "print(\"Training:---------\")\n",
        "print(confusion_matrix(y_train, y_train_, labels=[0,1]))\n",
        "print(\"Validation:---------\")\n",
        "print(confusion_matrix(y_val, y_val_, labels=[0,1]))"
      ],
      "metadata": {
        "colab": {
          "base_uri": "https://localhost:8080/"
        },
        "id": "OK_qCVVSTIbA",
        "outputId": "4ae9a9b2-2404-48d3-913c-5326e615a881"
      },
      "execution_count": 35,
      "outputs": [
        {
          "output_type": "stream",
          "name": "stdout",
          "text": [
            "Confusion_Matrix\n",
            "Training:---------\n",
            "[[18 17]\n",
            " [ 2 43]]\n",
            "Validation:---------\n",
            "[[ 2  5]\n",
            " [ 1 12]]\n"
          ]
        }
      ]
    },
    {
      "cell_type": "markdown",
      "source": [
        "## ROC curve"
      ],
      "metadata": {
        "id": "qhBxt3iHIViN"
      }
    },
    {
      "cell_type": "code",
      "source": [
        "from sklearn.metrics import RocCurveDisplay\n",
        "\n",
        "print(\"On Training Set\")\n",
        "RocCurveDisplay.from_estimator(clf_XGB, X_train, y_train)"
      ],
      "metadata": {
        "colab": {
          "base_uri": "https://localhost:8080/",
          "height": 484
        },
        "id": "6utlFSVbIVBt",
        "outputId": "ffe789ac-28ac-4c01-cedd-92c1eb72ac3d"
      },
      "execution_count": 55,
      "outputs": [
        {
          "output_type": "stream",
          "name": "stdout",
          "text": [
            "ROC Curve on Training Set\n"
          ]
        },
        {
          "output_type": "execute_result",
          "data": {
            "text/plain": [
              "<sklearn.metrics._plot.roc_curve.RocCurveDisplay at 0x7956944e71c0>"
            ]
          },
          "metadata": {},
          "execution_count": 55
        },
        {
          "output_type": "display_data",
          "data": {
            "text/plain": [
              "<Figure size 640x480 with 1 Axes>"
            ],
            "image/png": "[encoded data removed]"
          },
          "metadata": {}
        }
      ]
    },
    {
      "cell_type": "code",
      "source": [
        "print(\"On Validation Set: --------------\")\n",
        "RocCurveDisplay.from_estimator(clf_XGB, X_val, y_val)"
      ],
      "metadata": {
        "colab": {
          "base_uri": "https://localhost:8080/",
          "height": 484
        },
        "id": "1J5iW9HoJzTU",
        "outputId": "1bcc2c5d-785c-4d9b-df42-6462578b2e95"
      },
      "execution_count": 56,
      "outputs": [
        {
          "output_type": "stream",
          "name": "stdout",
          "text": [
            "On Validation Set: --------------\n"
          ]
        },
        {
          "output_type": "execute_result",
          "data": {
            "text/plain": [
              "<sklearn.metrics._plot.roc_curve.RocCurveDisplay at 0x7956922481c0>"
            ]
          },
          "metadata": {},
          "execution_count": 56
        },
        {
          "output_type": "display_data",
          "data": {
            "text/plain": [
              "<Figure size 640x480 with 1 Axes>"
            ],
            "image/png": "[encoded data removed]"
          },
          "metadata": {}
        }
      ]
    },
    {
      "cell_type": "code",
      "source": [
        "## drop X4\n",
        "X_train_2 = X_train.drop(columns=['X4'])\n",
        "X_val_2 = X_val.drop(columns=['X4'])"
      ],
      "metadata": {
        "id": "iOVQnFjWGZdv"
      },
      "execution_count": 50,
      "outputs": []
    },
    {
      "cell_type": "code",
      "source": [
        "clf_XGB2 = xgb.XGBClassifier(tree_method=\"hist\", early_stopping_rounds=5)\n",
        "clf_XGB2.fit(X_train_2, y_train, eval_set=[(X_val_2, y_val)])\n",
        "print(f\"training accuracy: {clf_XGB2.score(X_train_2, y_train)}\")\n",
        "\n",
        "print(f\"validation accuracy: {clf_XGB2.score(X_val_2, y_val)}\")"
      ],
      "metadata": {
        "colab": {
          "base_uri": "https://localhost:8080/"
        },
        "id": "7eym9vZIHDto",
        "outputId": "0b06217b-ca6a-4c72-c1f7-2b3d7a7a6e9a"
      },
      "execution_count": 51,
      "outputs": [
        {
          "output_type": "stream",
          "name": "stdout",
          "text": [
            "[0]\tvalidation_0-logloss:0.64747\n",
            "[1]\tvalidation_0-logloss:0.64452\n",
            "[2]\tvalidation_0-logloss:0.65064\n",
            "[3]\tvalidation_0-logloss:0.65362\n",
            "[4]\tvalidation_0-logloss:0.64669\n",
            "[5]\tvalidation_0-logloss:0.63866\n",
            "[6]\tvalidation_0-logloss:0.64874\n",
            "[7]\tvalidation_0-logloss:0.66123\n",
            "[8]\tvalidation_0-logloss:0.66722\n",
            "[9]\tvalidation_0-logloss:0.67101\n",
            "[10]\tvalidation_0-logloss:0.68182\n",
            "training accuracy: 0.7875\n",
            "validation accuracy: 0.7\n"
          ]
        }
      ]
    },
    {
      "cell_type": "code",
      "source": [
        "print(\"On Validation Set: --------------\")\n",
        "RocCurveDisplay.from_estimator(clf_XGB2, X_val_2, y_val)"
      ],
      "metadata": {
        "colab": {
          "base_uri": "https://localhost:8080/",
          "height": 484
        },
        "id": "VG5QgXT2JotZ",
        "outputId": "13dfb3c8-a6aa-4d00-f851-0e0792d5cb33"
      },
      "execution_count": 58,
      "outputs": [
        {
          "output_type": "stream",
          "name": "stdout",
          "text": [
            "On Validation Set: --------------\n"
          ]
        },
        {
          "output_type": "execute_result",
          "data": {
            "text/plain": [
              "<sklearn.metrics._plot.roc_curve.RocCurveDisplay at 0x7956923d5420>"
            ]
          },
          "metadata": {},
          "execution_count": 58
        },
        {
          "output_type": "display_data",
          "data": {
            "text/plain": [
              "<Figure size 640x480 with 1 Axes>"
            ],
            "image/png": "[encoded data removed]"
          },
          "metadata": {}
        }
      ]
    },
    {
      "cell_type": "markdown",
      "source": [
        "# Random Forest"
      ],
      "metadata": {
        "id": "U76O7LgTxxlQ"
      }
    },
    {
      "cell_type": "code",
      "source": [
        "from sklearn.ensemble import RandomForestClassifier\n",
        "\n",
        "clf_RF = RandomForestClassifier(random_state=0, max_depth=4).fit(X_train, y_train)\n",
        "print(f\"training accuracy: {clf_RF.score(X_train, y_train)}\")\n",
        "\n",
        "print(f\"validation accuracy: {clf_RF.score(X_val, y_val)}\")"
      ],
      "metadata": {
        "colab": {
          "base_uri": "https://localhost:8080/"
        },
        "id": "3_aW1vFExwkb",
        "outputId": "9f656de9-9a54-4b37-9b57-0365e29e0533"
      },
      "execution_count": 58,
      "outputs": [
        {
          "output_type": "stream",
          "name": "stdout",
          "text": [
            "training accuracy: 0.8125\n",
            "validation accuracy: 0.65\n"
          ]
        }
      ]
    }
  ]
}